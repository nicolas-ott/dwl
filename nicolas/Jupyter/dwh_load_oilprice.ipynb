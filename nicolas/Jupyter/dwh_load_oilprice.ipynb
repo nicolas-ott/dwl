{
 "cells": [
  {
   "cell_type": "markdown",
   "id": "94cc83fa",
   "metadata": {},
   "source": [
    "# dwh load oilprice"
   ]
  },
  {
   "cell_type": "markdown",
   "id": "ee4267e5",
   "metadata": {},
   "source": [
    "## Requirements & configuration"
   ]
  },
  {
   "cell_type": "code",
   "execution_count": 311,
   "id": "c06e6387",
   "metadata": {},
   "outputs": [],
   "source": [
    "# # Install required packages\n",
    "# ! pip install yfinance --upgrade --no-cache-dir\n",
    "# ! pip install psycopg2-binary\n",
    "# ! pip install sqlalchemy"
   ]
  },
  {
   "cell_type": "code",
   "execution_count": 1,
   "id": "comprehensive-anderson",
   "metadata": {},
   "outputs": [],
   "source": [
    "# # Import required packages\n",
    "import os\n",
    "import json\n",
    "import pandas as pd\n",
    "import psycopg2\n",
    "from sqlalchemy import create_engine\n",
    "from datetime import date"
   ]
  },
  {
   "cell_type": "code",
   "execution_count": 2,
   "id": "507b456b",
   "metadata": {},
   "outputs": [],
   "source": [
    "# DB configuration\n",
    "db1_config = {\n",
    "    'host': 'datalake.cknmu1bvrxjg.us-east-1.rds.amazonaws.com',\n",
    "    'port': '5432',\n",
    "    'user': 'muser',\n",
    "    'password': 'datalake',\n",
    "    'dbname': 'datalake',\n",
    "}\n",
    "\n",
    "db2_config = {\n",
    "    'host': 'datawarehouse.cbjds2ertxwh.us-east-1.rds.amazonaws.com',\n",
    "    'port': '5432',\n",
    "    'user': 'dw_admin',\n",
    "    'password': 'tW7OsKSHr0Wby28Ue2es',\n",
    "    'dbname': 'datawarehouse',\n",
    "}\n",
    "\n",
    "# Configure cnx_string for sqlalchemy\n",
    "db1 = f'postgresql://{db1_config[\"user\"]}:{db1_config[\"password\"]}@{db1_config[\"host\"]}/{db1_config[\"dbname\"]}'\n",
    "db2 = f'postgresql://{db2_config[\"user\"]}:{db2_config[\"password\"]}@{db2_config[\"host\"]}/{db2_config[\"dbname\"]}'"
   ]
  },
  {
   "cell_type": "markdown",
   "id": "21ddc932",
   "metadata": {},
   "source": [
    "## Setup DB Connection"
   ]
  },
  {
   "cell_type": "code",
   "execution_count": 3,
   "id": "2b8f8322",
   "metadata": {},
   "outputs": [],
   "source": [
    "# Establish connection to database 'lakehousedwh'\n",
    "try: \n",
    "    dwh_conn = psycopg2.connect(\n",
    "        dbname=db2_config['dbname'],\n",
    "        user=db2_config['user'],\n",
    "        host=db2_config['host'],\n",
    "        password=db2_config['password'],\n",
    "        port=db2_config['port']\n",
    "    )\n",
    "\n",
    "except psycopg2.Error as e: \n",
    "    print(\"Error: Could not make the connection to database 'datawarehouse'\")\n",
    "    print(e)\n",
    "\n",
    "# Create cursor\n",
    "try: \n",
    "    dwh_cursor = dwh_conn.cursor()\n",
    "except psycopg2.Error as e: \n",
    "    print(\"Error: Could not get the cursor to the database 'datawarehouse'\")\n",
    "    print(e)\n",
    "\n",
    "# Set auto commit feature\n",
    "dwh_conn.set_session(autocommit=True)\n",
    "\n",
    "# Create engines\n",
    "db1_engine = create_engine(db1)\n",
    "db2_engine = create_engine(db2)"
   ]
  },
  {
   "cell_type": "markdown",
   "id": "589f276b",
   "metadata": {},
   "source": [
    "## Create table oilprice in DWH"
   ]
  },
  {
   "cell_type": "code",
   "execution_count": 4,
   "id": "3a326d34",
   "metadata": {},
   "outputs": [],
   "source": [
    "# Create table 'oilprice_daily_stage' in DWH\n",
    "sql = \"\"\"\n",
    "    CREATE TABLE IF NOT EXISTS oilprice_daily_stage (\n",
    "        date DATE,\n",
    "        close float,\n",
    "        news_link text\n",
    "        )\n",
    "\"\"\"\n",
    "dwh_cursor.execute(sql)"
   ]
  },
  {
   "cell_type": "markdown",
   "id": "0d7ccd22",
   "metadata": {},
   "source": [
    "## Transfer price and news data from dwl to dwh"
   ]
  },
  {
   "cell_type": "code",
   "execution_count": 41,
   "id": "629dc07c",
   "metadata": {},
   "outputs": [],
   "source": [
    "# Query for price data\n",
    "sql1 = '''\n",
    "     SELECT date, close\n",
    "     FROM oilprice\n",
    "     ORDER BY date ASC;\n",
    "     '''\n",
    "\n",
    "# Query for news data\n",
    "sql2 = '''\n",
    "    SELECT ingested_at, news\n",
    "    FROM news_oil\n",
    "    ORDER BY ingested_at ASC;\n",
    "    '''\n",
    "\n",
    "df_oilprice = pd.read_sql(sql1, db1)\n",
    "df_news = pd.read_sql(sql2, db1)\n",
    "\n",
    "# Transform news data (extract news link, convert date column)\n",
    "df_news.loc[:, 'news_link'] = df_news.news.map(lambda x: x[0]['link'])\n",
    "df_news['date'] = pd.to_datetime(df_news['ingested_at']).dt.date\n",
    "df_news.drop(columns = ['ingested_at', 'news'], inplace = True)\n",
    "\n",
    "# Merge into single dataframe\n",
    "df = pd.merge(df_oilprice,df_news,on='date',how='left')\n",
    "\n",
    "# Extend data frame with missing trading days\n",
    "# Forward fill closing price and news column\n",
    "date_range = pd.date_range(start=df.date.min(), end=df.date.max())\n",
    "df = df.set_index('date').reindex(date_range).fillna(\n",
    "    method='ffill').rename_axis('date').reset_index()\n",
    "\n",
    "# Insert values into table 'oilprice_daily_stage' using sqlalchemy\n",
    "df.to_sql('oilprice_daily_stage', db2, index=False, if_exists='replace')"
   ]
  },
  {
   "cell_type": "markdown",
   "id": "4ee588ed",
   "metadata": {},
   "source": [
    "## Check values"
   ]
  },
  {
   "cell_type": "code",
   "execution_count": 43,
   "id": "9980b62e",
   "metadata": {},
   "outputs": [
    {
     "data": {
      "text/html": [
       "<div>\n",
       "<style scoped>\n",
       "    .dataframe tbody tr th:only-of-type {\n",
       "        vertical-align: middle;\n",
       "    }\n",
       "\n",
       "    .dataframe tbody tr th {\n",
       "        vertical-align: top;\n",
       "    }\n",
       "\n",
       "    .dataframe thead th {\n",
       "        text-align: right;\n",
       "    }\n",
       "</style>\n",
       "<table border=\"1\" class=\"dataframe\">\n",
       "  <thead>\n",
       "    <tr style=\"text-align: right;\">\n",
       "      <th></th>\n",
       "      <th>date</th>\n",
       "      <th>close</th>\n",
       "      <th>news_link</th>\n",
       "    </tr>\n",
       "  </thead>\n",
       "  <tbody>\n",
       "    <tr>\n",
       "      <th>0</th>\n",
       "      <td>2022-05-06</td>\n",
       "      <td>112.389999</td>\n",
       "      <td>https://finance.yahoo.com/video/stocks-nasdaq-...</td>\n",
       "    </tr>\n",
       "    <tr>\n",
       "      <th>1</th>\n",
       "      <td>2022-05-05</td>\n",
       "      <td>110.900002</td>\n",
       "      <td>https://finance.yahoo.com/video/stocks-nasdaq-...</td>\n",
       "    </tr>\n",
       "    <tr>\n",
       "      <th>2</th>\n",
       "      <td>2022-05-04</td>\n",
       "      <td>110.139999</td>\n",
       "      <td>https://finance.yahoo.com/video/stocks-mixed-f...</td>\n",
       "    </tr>\n",
       "    <tr>\n",
       "      <th>3</th>\n",
       "      <td>2022-05-03</td>\n",
       "      <td>104.970001</td>\n",
       "      <td>https://finance.yahoo.com/news/oil-something-f...</td>\n",
       "    </tr>\n",
       "    <tr>\n",
       "      <th>4</th>\n",
       "      <td>2022-05-02</td>\n",
       "      <td>109.360001</td>\n",
       "      <td>https://finance.yahoo.com/video/oil-earnings-e...</td>\n",
       "    </tr>\n",
       "    <tr>\n",
       "      <th>5</th>\n",
       "      <td>2022-05-01</td>\n",
       "      <td>109.339996</td>\n",
       "      <td>https://finance.yahoo.com/video/oil-giants-che...</td>\n",
       "    </tr>\n",
       "    <tr>\n",
       "      <th>6</th>\n",
       "      <td>2022-04-30</td>\n",
       "      <td>109.339996</td>\n",
       "      <td>https://finance.yahoo.com/video/oil-giants-che...</td>\n",
       "    </tr>\n",
       "    <tr>\n",
       "      <th>7</th>\n",
       "      <td>2022-04-29</td>\n",
       "      <td>109.339996</td>\n",
       "      <td>https://finance.yahoo.com/video/oil-giants-che...</td>\n",
       "    </tr>\n",
       "    <tr>\n",
       "      <th>8</th>\n",
       "      <td>2022-04-28</td>\n",
       "      <td>107.589996</td>\n",
       "      <td>https://finance.yahoo.com/video/market-strateg...</td>\n",
       "    </tr>\n",
       "    <tr>\n",
       "      <th>9</th>\n",
       "      <td>2022-04-27</td>\n",
       "      <td>105.320000</td>\n",
       "      <td>https://finance.yahoo.com/video/oil-rebounds-z...</td>\n",
       "    </tr>\n",
       "  </tbody>\n",
       "</table>\n",
       "</div>"
      ],
      "text/plain": [
       "        date       close                                          news_link\n",
       "0 2022-05-06  112.389999  https://finance.yahoo.com/video/stocks-nasdaq-...\n",
       "1 2022-05-05  110.900002  https://finance.yahoo.com/video/stocks-nasdaq-...\n",
       "2 2022-05-04  110.139999  https://finance.yahoo.com/video/stocks-mixed-f...\n",
       "3 2022-05-03  104.970001  https://finance.yahoo.com/news/oil-something-f...\n",
       "4 2022-05-02  109.360001  https://finance.yahoo.com/video/oil-earnings-e...\n",
       "5 2022-05-01  109.339996  https://finance.yahoo.com/video/oil-giants-che...\n",
       "6 2022-04-30  109.339996  https://finance.yahoo.com/video/oil-giants-che...\n",
       "7 2022-04-29  109.339996  https://finance.yahoo.com/video/oil-giants-che...\n",
       "8 2022-04-28  107.589996  https://finance.yahoo.com/video/market-strateg...\n",
       "9 2022-04-27  105.320000  https://finance.yahoo.com/video/oil-rebounds-z..."
      ]
     },
     "execution_count": 43,
     "metadata": {},
     "output_type": "execute_result"
    }
   ],
   "source": [
    "# Show inserted values\n",
    "sql = '''\n",
    "    SELECT *\n",
    "    FROM oilprice_daily_stage\n",
    "    ORDER BY date DESC\n",
    "    LIMIT 10;\n",
    "    '''\n",
    "test = pd.read_sql(sql, db2)\n",
    "test"
   ]
  },
  {
   "cell_type": "code",
   "execution_count": 44,
   "id": "6c4a43f8",
   "metadata": {},
   "outputs": [
    {
     "data": {
      "text/plain": [
       "5395"
      ]
     },
     "execution_count": 44,
     "metadata": {},
     "output_type": "execute_result"
    }
   ],
   "source": [
    "# Count inserted values\n",
    "sql = '''\n",
    "    SELECT COUNT(*) cnt\n",
    "    FROM oilprice_daily_stage;\n",
    "    '''\n",
    "count = pd.read_sql(sql, db2).values[0][0]\n",
    "count"
   ]
  },
  {
   "cell_type": "markdown",
   "id": "429c6a30",
   "metadata": {},
   "source": [
    "## Close the connection"
   ]
  },
  {
   "cell_type": "code",
   "execution_count": 45,
   "id": "4db88d46",
   "metadata": {},
   "outputs": [],
   "source": [
    "# Close connection \n",
    "dwh_cursor.close()\n",
    "dwh_conn.close()"
   ]
  }
 ],
 "metadata": {
  "kernelspec": {
   "display_name": "Python 3 (ipykernel)",
   "language": "python",
   "name": "python3"
  },
  "language_info": {
   "codemirror_mode": {
    "name": "ipython",
    "version": 3
   },
   "file_extension": ".py",
   "mimetype": "text/x-python",
   "name": "python",
   "nbconvert_exporter": "python",
   "pygments_lexer": "ipython3",
   "version": "3.8.12"
  },
  "toc": {
   "base_numbering": 1,
   "nav_menu": {},
   "number_sections": true,
   "sideBar": true,
   "skip_h1_title": false,
   "title_cell": "Table of Contents",
   "title_sidebar": "Contents",
   "toc_cell": false,
   "toc_position": {},
   "toc_section_display": true,
   "toc_window_display": false
  }
 },
 "nbformat": 4,
 "nbformat_minor": 5
}
