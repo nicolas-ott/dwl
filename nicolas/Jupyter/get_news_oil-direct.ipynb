{
 "cells": [
  {
   "cell_type": "markdown",
   "id": "cccbcb68",
   "metadata": {},
   "source": [
    "# Get news for instrument oil (\"BZ=F\")\n",
    "https://levelup.gitconnected.com/how-to-import-json-from-s3-to-postgresql-on-rds-b132357af39e"
   ]
  },
  {
   "cell_type": "code",
   "execution_count": 15,
   "id": "acfbe27f",
   "metadata": {},
   "outputs": [],
   "source": [
    "# # Install required packages\n",
    "# ! pip install yfinance --upgrade --no-cache-dir\n",
    "# ! pip install psycopg2-binary\n",
    "# ! pip install sqlalchemy"
   ]
  },
  {
   "cell_type": "markdown",
   "id": "06eff76f",
   "metadata": {},
   "source": [
    "## Requirements & configuration"
   ]
  },
  {
   "cell_type": "code",
   "execution_count": 2,
   "id": "0e1c3802",
   "metadata": {},
   "outputs": [],
   "source": [
    "# Import required packages\n",
    "# import os\n",
    "import pandas as pd\n",
    "import yfinance as yf\n",
    "import json\n",
    "from pprint import pprint\n",
    "import psycopg2\n",
    "from sqlalchemy import create_engine\n",
    "from datetime import date"
   ]
  },
  {
   "cell_type": "code",
   "execution_count": 9,
   "id": "185a9ce0",
   "metadata": {},
   "outputs": [],
   "source": [
    "# DB configuration\n",
    "config = {\n",
    "    'host': 'datalake.cknmu1bvrxjg.us-east-1.rds.amazonaws.com',\n",
    "    'port': '5432',\n",
    "    'user': 'muser',\n",
    "    'password': 'datalake',\n",
    "    'dbname': 'datalake',\n",
    "}\n",
    "\n",
    "# Configure cnx_string for sqlalchemy\n",
    "cnx_str = f'postgresql://{config[\"user\"]}:{config[\"password\"]}@{config[\"host\"]}/{config[\"dbname\"]}'"
   ]
  },
  {
   "cell_type": "code",
   "execution_count": 4,
   "id": "548860bb",
   "metadata": {},
   "outputs": [],
   "source": [
    "# Set ticker for required instrument \"Brent Crude Oil\"\n",
    "brent = yf.Ticker(\"BZ=F\")"
   ]
  },
  {
   "cell_type": "markdown",
   "id": "7c7926a0",
   "metadata": {},
   "source": [
    "## Getting news of instrument 'BZ=F'"
   ]
  },
  {
   "cell_type": "code",
   "execution_count": 19,
   "id": "a872c4dd",
   "metadata": {},
   "outputs": [],
   "source": [
    "# Get news and convert it into JSON\n",
    "news = json.dumps(brent.news)\n",
    "# pprint(news)"
   ]
  },
  {
   "cell_type": "markdown",
   "id": "e2cf433e",
   "metadata": {},
   "source": [
    "## Write news into datalake db"
   ]
  },
  {
   "cell_type": "code",
   "execution_count": 10,
   "id": "bf6eccdb",
   "metadata": {},
   "outputs": [],
   "source": [
    "# Establish connection to database 'lakehouse'\n",
    "try: \n",
    "    conn = psycopg2.connect(\n",
    "        dbname=config['dbname'],\n",
    "        user=config['user'],\n",
    "        host=config['host'],\n",
    "        password=config['password'],\n",
    "        port=config['port']\n",
    "    )\n",
    "\n",
    "except psycopg2.Error as e: \n",
    "    print(\"Error: Could not make the connection to the postgres database\")\n",
    "    print(e)\n",
    "\n",
    "# Create cursor\n",
    "try: \n",
    "    cursor = conn.cursor()\n",
    "except psycopg2.Error as e: \n",
    "    print(\"Error: Could not get the cursor to the database\")\n",
    "    print(e)\n",
    "\n",
    "# Set auto commit feature\n",
    "conn.set_session(autocommit=True)\n",
    "\n",
    "# Create engine\n",
    "engine = create_engine(cnx_str)"
   ]
  },
  {
   "cell_type": "code",
   "execution_count": 11,
   "id": "d650b974",
   "metadata": {},
   "outputs": [],
   "source": [
    "# Create table news_oil using the JSONB data type\n",
    "sql = \"\"\"\n",
    "    CREATE TABLE IF NOT EXISTS news_oil (\n",
    "      ingested_at timestamp DEFAULT CURRENT_TIMESTAMP,\n",
    "      news jsonb NOT NULL\n",
    "      );\n",
    "\"\"\"\n",
    "cursor.execute(sql)"
   ]
  },
  {
   "cell_type": "code",
   "execution_count": 18,
   "id": "ad79ad81",
   "metadata": {},
   "outputs": [],
   "source": [
    "# Upload news into db\n",
    "sql = \"\"\"\n",
    "    INSERT INTO news_oil (news)\n",
    "    VALUES (%s);\n",
    "\"\"\"\n",
    "cursor.execute(sql, [news])"
   ]
  },
  {
   "cell_type": "markdown",
   "id": "f3ffef59",
   "metadata": {},
   "source": [
    "## Close connection"
   ]
  },
  {
   "cell_type": "code",
   "execution_count": 13,
   "id": "b8fdaa1e",
   "metadata": {},
   "outputs": [],
   "source": [
    "# Close connection\n",
    "cursor.close()\n",
    "conn.close()"
   ]
  }
 ],
 "metadata": {
  "kernelspec": {
   "display_name": "Python 3 (ipykernel)",
   "language": "python",
   "name": "python3"
  },
  "language_info": {
   "codemirror_mode": {
    "name": "ipython",
    "version": 3
   },
   "file_extension": ".py",
   "mimetype": "text/x-python",
   "name": "python",
   "nbconvert_exporter": "python",
   "pygments_lexer": "ipython3",
   "version": "3.8.12"
  },
  "toc": {
   "base_numbering": 1,
   "nav_menu": {},
   "number_sections": true,
   "sideBar": true,
   "skip_h1_title": false,
   "title_cell": "Table of Contents",
   "title_sidebar": "Contents",
   "toc_cell": false,
   "toc_position": {},
   "toc_section_display": true,
   "toc_window_display": false
  }
 },
 "nbformat": 4,
 "nbformat_minor": 5
}
