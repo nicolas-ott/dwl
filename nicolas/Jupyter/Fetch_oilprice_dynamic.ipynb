{
 "cells": [
  {
   "cell_type": "markdown",
   "id": "f344c4a1",
   "metadata": {},
   "source": [
    "# Fetch dynamic oil price data"
   ]
  },
  {
   "cell_type": "markdown",
   "id": "81c548e4",
   "metadata": {},
   "source": [
    "## Requirements & configuration"
   ]
  },
  {
   "cell_type": "code",
   "execution_count": 20,
   "id": "eccdc703",
   "metadata": {},
   "outputs": [],
   "source": [
    "# # Install required packages\n",
    "# ! pip install yfinance --upgrade --no-cache-dir\n",
    "# ! pip install psycopg2\n",
    "# ! pip install sqlalchemy"
   ]
  },
  {
   "cell_type": "code",
   "execution_count": 1,
   "id": "comprehensive-anderson",
   "metadata": {},
   "outputs": [],
   "source": [
    "# # Import required packages\n",
    "# import os\n",
    "# import json\n",
    "import pandas as pd\n",
    "import yfinance as yf # https://pypi.org/project/yfinance/\n",
    "import psycopg2\n",
    "from sqlalchemy import create_engine\n",
    "from datetime import date, timedelta"
   ]
  },
  {
   "cell_type": "code",
   "execution_count": 4,
   "id": "25a564ff",
   "metadata": {},
   "outputs": [],
   "source": [
    "# DB configuration\n",
    "config = {\n",
    "    'host': 'datalake.cknmu1bvrxjg.us-east-1.rds.amazonaws.com',\n",
    "    'port': '5432',\n",
    "    'user': 'muser',\n",
    "    'password': 'datalake',\n",
    "    'dbname': 'datalake',\n",
    "}\n",
    "\n",
    "# Configure cnx_string for sqlalchemy\n",
    "cnx_str = f'postgresql://{config[\"user\"]}:{config[\"password\"]}@{config[\"host\"]}/{config[\"dbname\"]}'"
   ]
  },
  {
   "cell_type": "code",
   "execution_count": 5,
   "id": "6ff9cdbb",
   "metadata": {},
   "outputs": [],
   "source": [
    "# Set ticker for required instrument \"Brent Crude Oil\"\n",
    "brent = yf.Ticker(\"BZ=F\")"
   ]
  },
  {
   "cell_type": "markdown",
   "id": "08c1b076",
   "metadata": {},
   "source": [
    "## Setup DB Connection"
   ]
  },
  {
   "cell_type": "code",
   "execution_count": 6,
   "id": "58881531",
   "metadata": {},
   "outputs": [],
   "source": [
    "# Establish connection to database 'lakehouse'\n",
    "try: \n",
    "    conn = psycopg2.connect(\n",
    "        dbname=config['dbname'],\n",
    "        user=config['user'],\n",
    "        host=config['host'],\n",
    "        password=config['password'],\n",
    "        port=config['port']\n",
    "    )\n",
    "\n",
    "except psycopg2.Error as e: \n",
    "    print(\"Error: Could not make the connection to the postgres database\")\n",
    "    print(e)\n",
    "\n",
    "# Create cursor\n",
    "try: \n",
    "    cursor = conn.cursor()\n",
    "except psycopg2.Error as e: \n",
    "    print(\"Error: Could not get the cursor to the database\")\n",
    "    print(e)\n",
    "\n",
    "# Set auto commit feature\n",
    "conn.set_session(autocommit=True)\n",
    "\n",
    "# Create engine\n",
    "engine = create_engine(cnx_str)"
   ]
  },
  {
   "cell_type": "markdown",
   "id": "f10a61ab",
   "metadata": {},
   "source": [
    "## Get latest date of table oilprice"
   ]
  },
  {
   "cell_type": "code",
   "execution_count": 7,
   "id": "f00de8dc",
   "metadata": {},
   "outputs": [
    {
     "data": {
      "text/plain": [
       "'2022-04-21'"
      ]
     },
     "execution_count": 7,
     "metadata": {},
     "output_type": "execute_result"
    }
   ],
   "source": [
    "# Get latest date of table oilprice\n",
    "sql = '''\n",
    "    SELECT date\n",
    "    FROM oilprice\n",
    "    ORDER BY date DESC\n",
    "    LIMIT 1;\n",
    "    '''\n",
    "cursor.execute(sql)\n",
    "last_date = str(cursor.fetchone()[0]+timedelta(days=1))\n",
    "last_date"
   ]
  },
  {
   "cell_type": "markdown",
   "id": "9e3f9338",
   "metadata": {},
   "source": [
    "## Fetch oil price data dynamically"
   ]
  },
  {
   "cell_type": "code",
   "execution_count": 8,
   "id": "5eec9ef7",
   "metadata": {},
   "outputs": [
    {
     "name": "stdout",
     "output_type": "stream",
     "text": [
      "[*********************100%***********************]  1 of 1 completed\n"
     ]
    },
    {
     "data": {
      "text/html": [
       "<div>\n",
       "<style scoped>\n",
       "    .dataframe tbody tr th:only-of-type {\n",
       "        vertical-align: middle;\n",
       "    }\n",
       "\n",
       "    .dataframe tbody tr th {\n",
       "        vertical-align: top;\n",
       "    }\n",
       "\n",
       "    .dataframe thead th {\n",
       "        text-align: right;\n",
       "    }\n",
       "</style>\n",
       "<table border=\"1\" class=\"dataframe\">\n",
       "  <thead>\n",
       "    <tr style=\"text-align: right;\">\n",
       "      <th></th>\n",
       "      <th>Open</th>\n",
       "      <th>High</th>\n",
       "      <th>Low</th>\n",
       "      <th>Close</th>\n",
       "      <th>Adj Close</th>\n",
       "      <th>Volume</th>\n",
       "    </tr>\n",
       "    <tr>\n",
       "      <th>Date</th>\n",
       "      <th></th>\n",
       "      <th></th>\n",
       "      <th></th>\n",
       "      <th></th>\n",
       "      <th></th>\n",
       "      <th></th>\n",
       "    </tr>\n",
       "  </thead>\n",
       "  <tbody>\n",
       "    <tr>\n",
       "      <th>2022-04-20</th>\n",
       "      <td>107.720001</td>\n",
       "      <td>108.980003</td>\n",
       "      <td>104.669998</td>\n",
       "      <td>106.800003</td>\n",
       "      <td>106.800003</td>\n",
       "      <td>15985</td>\n",
       "    </tr>\n",
       "  </tbody>\n",
       "</table>\n",
       "</div>"
      ],
      "text/plain": [
       "                  Open        High         Low       Close   Adj Close  Volume\n",
       "Date                                                                          \n",
       "2022-04-20  107.720001  108.980003  104.669998  106.800003  106.800003   15985"
      ]
     },
     "execution_count": 8,
     "metadata": {},
     "output_type": "execute_result"
    }
   ],
   "source": [
    "# Get oil price data dynamically\n",
    "data = yf.download(\"BZ=F\", start=last_date, end=str(date.today()-timedelta(days=2)))\n",
    "data"
   ]
  },
  {
   "cell_type": "markdown",
   "id": "9821ad9e",
   "metadata": {},
   "source": [
    "## Transform data"
   ]
  },
  {
   "cell_type": "code",
   "execution_count": 14,
   "id": "4a85ddb2",
   "metadata": {},
   "outputs": [
    {
     "data": {
      "text/html": [
       "<div>\n",
       "<style scoped>\n",
       "    .dataframe tbody tr th:only-of-type {\n",
       "        vertical-align: middle;\n",
       "    }\n",
       "\n",
       "    .dataframe tbody tr th {\n",
       "        vertical-align: top;\n",
       "    }\n",
       "\n",
       "    .dataframe thead th {\n",
       "        text-align: right;\n",
       "    }\n",
       "</style>\n",
       "<table border=\"1\" class=\"dataframe\">\n",
       "  <thead>\n",
       "    <tr style=\"text-align: right;\">\n",
       "      <th></th>\n",
       "      <th>Open</th>\n",
       "      <th>High</th>\n",
       "      <th>Low</th>\n",
       "      <th>Adj Close</th>\n",
       "      <th>Volume</th>\n",
       "    </tr>\n",
       "    <tr>\n",
       "      <th>Date</th>\n",
       "      <th></th>\n",
       "      <th></th>\n",
       "      <th></th>\n",
       "      <th></th>\n",
       "      <th></th>\n",
       "    </tr>\n",
       "  </thead>\n",
       "  <tbody>\n",
       "    <tr>\n",
       "      <th>2022-04-07</th>\n",
       "      <td>102.150002</td>\n",
       "      <td>103.50</td>\n",
       "      <td>98.449997</td>\n",
       "      <td>100.580002</td>\n",
       "      <td>19577</td>\n",
       "    </tr>\n",
       "    <tr>\n",
       "      <th>2022-04-08</th>\n",
       "      <td>101.690002</td>\n",
       "      <td>103.25</td>\n",
       "      <td>99.709999</td>\n",
       "      <td>102.779999</td>\n",
       "      <td>19577</td>\n",
       "    </tr>\n",
       "  </tbody>\n",
       "</table>\n",
       "</div>"
      ],
      "text/plain": [
       "                  Open    High        Low   Adj Close  Volume\n",
       "Date                                                         \n",
       "2022-04-07  102.150002  103.50  98.449997  100.580002   19577\n",
       "2022-04-08  101.690002  103.25  99.709999  102.779999   19577"
      ]
     },
     "execution_count": 14,
     "metadata": {},
     "output_type": "execute_result"
    }
   ],
   "source": [
    "# Remove column 'Close'\n",
    "data.drop(['Close'], inplace=True, axis=1)\n",
    "data.head()"
   ]
  },
  {
   "cell_type": "code",
   "execution_count": 15,
   "id": "8d84b026",
   "metadata": {},
   "outputs": [
    {
     "data": {
      "text/html": [
       "<div>\n",
       "<style scoped>\n",
       "    .dataframe tbody tr th:only-of-type {\n",
       "        vertical-align: middle;\n",
       "    }\n",
       "\n",
       "    .dataframe tbody tr th {\n",
       "        vertical-align: top;\n",
       "    }\n",
       "\n",
       "    .dataframe thead th {\n",
       "        text-align: right;\n",
       "    }\n",
       "</style>\n",
       "<table border=\"1\" class=\"dataframe\">\n",
       "  <thead>\n",
       "    <tr style=\"text-align: right;\">\n",
       "      <th></th>\n",
       "      <th>Date</th>\n",
       "      <th>Open</th>\n",
       "      <th>High</th>\n",
       "      <th>Low</th>\n",
       "      <th>Adj Close</th>\n",
       "      <th>Volume</th>\n",
       "    </tr>\n",
       "  </thead>\n",
       "  <tbody>\n",
       "    <tr>\n",
       "      <th>0</th>\n",
       "      <td>2022-04-07</td>\n",
       "      <td>102.150002</td>\n",
       "      <td>103.50</td>\n",
       "      <td>98.449997</td>\n",
       "      <td>100.580002</td>\n",
       "      <td>19577</td>\n",
       "    </tr>\n",
       "    <tr>\n",
       "      <th>1</th>\n",
       "      <td>2022-04-08</td>\n",
       "      <td>101.690002</td>\n",
       "      <td>103.25</td>\n",
       "      <td>99.709999</td>\n",
       "      <td>102.779999</td>\n",
       "      <td>19577</td>\n",
       "    </tr>\n",
       "  </tbody>\n",
       "</table>\n",
       "</div>"
      ],
      "text/plain": [
       "         Date        Open    High        Low   Adj Close  Volume\n",
       "0  2022-04-07  102.150002  103.50  98.449997  100.580002   19577\n",
       "1  2022-04-08  101.690002  103.25  99.709999  102.779999   19577"
      ]
     },
     "execution_count": 15,
     "metadata": {},
     "output_type": "execute_result"
    }
   ],
   "source": [
    "# Put the date index as column and convert it to date format\n",
    "data = data.reset_index(level=0)\n",
    "data['Date'] = pd.to_datetime(data['Date']).dt.date\n",
    "data.head()"
   ]
  },
  {
   "cell_type": "code",
   "execution_count": 16,
   "id": "9628c0cc",
   "metadata": {},
   "outputs": [
    {
     "data": {
      "text/html": [
       "<div>\n",
       "<style scoped>\n",
       "    .dataframe tbody tr th:only-of-type {\n",
       "        vertical-align: middle;\n",
       "    }\n",
       "\n",
       "    .dataframe tbody tr th {\n",
       "        vertical-align: top;\n",
       "    }\n",
       "\n",
       "    .dataframe thead th {\n",
       "        text-align: right;\n",
       "    }\n",
       "</style>\n",
       "<table border=\"1\" class=\"dataframe\">\n",
       "  <thead>\n",
       "    <tr style=\"text-align: right;\">\n",
       "      <th></th>\n",
       "      <th>date</th>\n",
       "      <th>open</th>\n",
       "      <th>high</th>\n",
       "      <th>low</th>\n",
       "      <th>close</th>\n",
       "      <th>volume</th>\n",
       "    </tr>\n",
       "  </thead>\n",
       "  <tbody>\n",
       "    <tr>\n",
       "      <th>0</th>\n",
       "      <td>2022-04-07</td>\n",
       "      <td>102.150002</td>\n",
       "      <td>103.50</td>\n",
       "      <td>98.449997</td>\n",
       "      <td>100.580002</td>\n",
       "      <td>19577</td>\n",
       "    </tr>\n",
       "    <tr>\n",
       "      <th>1</th>\n",
       "      <td>2022-04-08</td>\n",
       "      <td>101.690002</td>\n",
       "      <td>103.25</td>\n",
       "      <td>99.709999</td>\n",
       "      <td>102.779999</td>\n",
       "      <td>19577</td>\n",
       "    </tr>\n",
       "  </tbody>\n",
       "</table>\n",
       "</div>"
      ],
      "text/plain": [
       "         date        open    high        low       close  volume\n",
       "0  2022-04-07  102.150002  103.50  98.449997  100.580002   19577\n",
       "1  2022-04-08  101.690002  103.25  99.709999  102.779999   19577"
      ]
     },
     "execution_count": 16,
     "metadata": {},
     "output_type": "execute_result"
    }
   ],
   "source": [
    "# Rename columns\n",
    "data.rename(columns = {'Date':'date',\n",
    "                       'Open':'open',\n",
    "                       'High':'high',\n",
    "                       'Low':'low',\n",
    "                       'Adj Close':'close',\n",
    "                       'Volume':'volume'},\n",
    "            inplace = True)\n",
    "data.head()"
   ]
  },
  {
   "cell_type": "markdown",
   "id": "d104296a",
   "metadata": {},
   "source": [
    "## Insert values into table"
   ]
  },
  {
   "cell_type": "code",
   "execution_count": 17,
   "id": "68ce2a72",
   "metadata": {},
   "outputs": [],
   "source": [
    "# Insert values into table using sqlalchemy\n",
    "data.to_sql('oilprice', engine, if_exists='append', index=False)"
   ]
  },
  {
   "cell_type": "markdown",
   "id": "2f123781",
   "metadata": {},
   "source": [
    "## Check values"
   ]
  },
  {
   "cell_type": "code",
   "execution_count": 18,
   "id": "582565fa",
   "metadata": {},
   "outputs": [
    {
     "data": {
      "text/html": [
       "<div>\n",
       "<style scoped>\n",
       "    .dataframe tbody tr th:only-of-type {\n",
       "        vertical-align: middle;\n",
       "    }\n",
       "\n",
       "    .dataframe tbody tr th {\n",
       "        vertical-align: top;\n",
       "    }\n",
       "\n",
       "    .dataframe thead th {\n",
       "        text-align: right;\n",
       "    }\n",
       "</style>\n",
       "<table border=\"1\" class=\"dataframe\">\n",
       "  <thead>\n",
       "    <tr style=\"text-align: right;\">\n",
       "      <th></th>\n",
       "      <th>date</th>\n",
       "      <th>open</th>\n",
       "      <th>high</th>\n",
       "      <th>low</th>\n",
       "      <th>close</th>\n",
       "      <th>volume</th>\n",
       "    </tr>\n",
       "  </thead>\n",
       "  <tbody>\n",
       "    <tr>\n",
       "      <th>0</th>\n",
       "      <td>2022-04-08</td>\n",
       "      <td>101.690002</td>\n",
       "      <td>103.25</td>\n",
       "      <td>99.709999</td>\n",
       "      <td>102.779999</td>\n",
       "      <td>19577</td>\n",
       "    </tr>\n",
       "  </tbody>\n",
       "</table>\n",
       "</div>"
      ],
      "text/plain": [
       "         date        open    high        low       close  volume\n",
       "0  2022-04-08  101.690002  103.25  99.709999  102.779999   19577"
      ]
     },
     "execution_count": 18,
     "metadata": {},
     "output_type": "execute_result"
    }
   ],
   "source": [
    "# Check the most recently inputted values\n",
    "sql = '''\n",
    "    SELECT *\n",
    "    FROM oilprice\n",
    "    ORDER BY date DESC\n",
    "    LIMIT 1;\n",
    "    '''\n",
    "test = pd.read_sql(sql, engine)\n",
    "test"
   ]
  },
  {
   "cell_type": "markdown",
   "id": "f6bf5635",
   "metadata": {},
   "source": [
    "## Close the connection"
   ]
  },
  {
   "cell_type": "code",
   "execution_count": 19,
   "id": "3183f2ff",
   "metadata": {},
   "outputs": [],
   "source": [
    "cursor.close()\n",
    "conn.close()"
   ]
  }
 ],
 "metadata": {
  "kernelspec": {
   "display_name": "Python 3 (ipykernel)",
   "language": "python",
   "name": "python3"
  },
  "language_info": {
   "codemirror_mode": {
    "name": "ipython",
    "version": 3
   },
   "file_extension": ".py",
   "mimetype": "text/x-python",
   "name": "python",
   "nbconvert_exporter": "python",
   "pygments_lexer": "ipython3",
   "version": "3.8.12"
  },
  "toc": {
   "base_numbering": 1,
   "nav_menu": {},
   "number_sections": true,
   "sideBar": true,
   "skip_h1_title": false,
   "title_cell": "Table of Contents",
   "title_sidebar": "Contents",
   "toc_cell": false,
   "toc_position": {},
   "toc_section_display": true,
   "toc_window_display": false
  }
 },
 "nbformat": 4,
 "nbformat_minor": 5
}
