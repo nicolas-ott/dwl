{
 "cells": [
  {
   "cell_type": "markdown",
   "id": "cccbcb68",
   "metadata": {},
   "source": [
    "# Get metadata for instrument oil (\"BZ=F\")\n",
    "\n",
    "https://github.com/chimpler/postgres-aws-s3/blob/master/README.md\n",
    "\n",
    "https://medium.com/analytics-vidhya/data-flow-between-python-aws-s3-bucket-aws-rds-243e38561bc2\n",
    "\n",
    "https://www.stackvidhya.com/write-a-file-to-s3-using-boto3/"
   ]
  },
  {
   "cell_type": "markdown",
   "id": "06eff76f",
   "metadata": {},
   "source": [
    "## Requirements & configuration"
   ]
  },
  {
   "cell_type": "code",
   "execution_count": 1,
   "id": "0e1c3802",
   "metadata": {},
   "outputs": [],
   "source": [
    "# Import required packages\n",
    "# import os\n",
    "import pandas as pd\n",
    "import yfinance as yf\n",
    "import json\n",
    "from pprint import pprint\n",
    "import psycopg2\n",
    "from sqlalchemy import create_engine\n",
    "from datetime import date"
   ]
  },
  {
   "cell_type": "code",
   "execution_count": 2,
   "id": "185a9ce0",
   "metadata": {},
   "outputs": [],
   "source": [
    "# DB configuration\n",
    "config = {\n",
    "    'host': 'datalake.cknmu1bvrxjg.us-east-1.rds.amazonaws.com',\n",
    "    'port': '5432',\n",
    "    'user': 'muser',\n",
    "    'password': 'datalake',\n",
    "    'dbname': 'datalake',\n",
    "}\n",
    "\n",
    "# Configure cnx_string for sqlalchemy\n",
    "cnx_str = f'postgresql://{config[\"user\"]}:{config[\"password\"]}@{config[\"host\"]}/{config[\"dbname\"]}'"
   ]
  },
  {
   "cell_type": "code",
   "execution_count": 4,
   "id": "548860bb",
   "metadata": {},
   "outputs": [],
   "source": [
    "# Set ticker for required instrument \"Brent Crude Oil\"\n",
    "brent = yf.Ticker(\"BZ=F\")"
   ]
  },
  {
   "cell_type": "markdown",
   "id": "7c7926a0",
   "metadata": {},
   "source": [
    "## Getting metadata of instrument 'BZ=F'"
   ]
  },
  {
   "cell_type": "code",
   "execution_count": 8,
   "id": "f9530db7",
   "metadata": {},
   "outputs": [
    {
     "data": {
      "text/html": [
       "<div>\n",
       "<style scoped>\n",
       "    .dataframe tbody tr th:only-of-type {\n",
       "        vertical-align: middle;\n",
       "    }\n",
       "\n",
       "    .dataframe tbody tr th {\n",
       "        vertical-align: top;\n",
       "    }\n",
       "\n",
       "    .dataframe thead th {\n",
       "        text-align: right;\n",
       "    }\n",
       "</style>\n",
       "<table border=\"1\" class=\"dataframe\">\n",
       "  <thead>\n",
       "    <tr style=\"text-align: right;\">\n",
       "      <th></th>\n",
       "      <th>key</th>\n",
       "      <th>value</th>\n",
       "    </tr>\n",
       "  </thead>\n",
       "  <tbody>\n",
       "    <tr>\n",
       "      <th>0</th>\n",
       "      <td>exchange</td>\n",
       "      <td>NYM</td>\n",
       "    </tr>\n",
       "    <tr>\n",
       "      <th>1</th>\n",
       "      <td>shortName</td>\n",
       "      <td>Brent Crude Oil Last Day Financ</td>\n",
       "    </tr>\n",
       "    <tr>\n",
       "      <th>2</th>\n",
       "      <td>exchangeTimezoneName</td>\n",
       "      <td>America/New_York</td>\n",
       "    </tr>\n",
       "    <tr>\n",
       "      <th>3</th>\n",
       "      <td>exchangeTimezoneShortName</td>\n",
       "      <td>EDT</td>\n",
       "    </tr>\n",
       "    <tr>\n",
       "      <th>4</th>\n",
       "      <td>isEsgPopulated</td>\n",
       "      <td>False</td>\n",
       "    </tr>\n",
       "    <tr>\n",
       "      <th>...</th>\n",
       "      <td>...</td>\n",
       "      <td>...</td>\n",
       "    </tr>\n",
       "    <tr>\n",
       "      <th>62</th>\n",
       "      <td>bidSize</td>\n",
       "      <td>0</td>\n",
       "    </tr>\n",
       "    <tr>\n",
       "      <th>63</th>\n",
       "      <td>dayHigh</td>\n",
       "      <td>106.2</td>\n",
       "    </tr>\n",
       "    <tr>\n",
       "      <th>64</th>\n",
       "      <td>regularMarketPrice</td>\n",
       "      <td>104.37</td>\n",
       "    </tr>\n",
       "    <tr>\n",
       "      <th>65</th>\n",
       "      <td>preMarketPrice</td>\n",
       "      <td>None</td>\n",
       "    </tr>\n",
       "    <tr>\n",
       "      <th>66</th>\n",
       "      <td>logo_url</td>\n",
       "      <td></td>\n",
       "    </tr>\n",
       "  </tbody>\n",
       "</table>\n",
       "<p>67 rows × 2 columns</p>\n",
       "</div>"
      ],
      "text/plain": [
       "                          key                            value\n",
       "0                    exchange                              NYM\n",
       "1                   shortName  Brent Crude Oil Last Day Financ\n",
       "2        exchangeTimezoneName                 America/New_York\n",
       "3   exchangeTimezoneShortName                              EDT\n",
       "4              isEsgPopulated                            False\n",
       "..                        ...                              ...\n",
       "62                    bidSize                                0\n",
       "63                    dayHigh                            106.2\n",
       "64         regularMarketPrice                           104.37\n",
       "65             preMarketPrice                             None\n",
       "66                   logo_url                                 \n",
       "\n",
       "[67 rows x 2 columns]"
      ]
     },
     "execution_count": 8,
     "metadata": {},
     "output_type": "execute_result"
    }
   ],
   "source": [
    "# Get metadata and convert it into csv format\n",
    "dict_metadata = brent.info\n",
    "df_metadata = pd.DataFrame(dict_metadata, index=[0]).T.reset_index()\n",
    "df_metadata.rename(columns = {'index':'key', 0:'value'}, inplace = True)\n",
    "df_metadata"
   ]
  },
  {
   "cell_type": "markdown",
   "id": "e2cf433e",
   "metadata": {},
   "source": [
    "## Write metadata into datalake db"
   ]
  },
  {
   "cell_type": "code",
   "execution_count": 10,
   "id": "bf6eccdb",
   "metadata": {},
   "outputs": [],
   "source": [
    "# Establish connection to database 'lakehouse'\n",
    "try: \n",
    "    conn = psycopg2.connect(\n",
    "        dbname=config['dbname'],\n",
    "        user=config['user'],\n",
    "        host=config['host'],\n",
    "        password=config['password'],\n",
    "        port=config['port']\n",
    "    )\n",
    "\n",
    "except psycopg2.Error as e: \n",
    "    print(\"Error: Could not make the connection to the postgres database\")\n",
    "    print(e)\n",
    "\n",
    "# Create cursor\n",
    "try: \n",
    "    cursor = conn.cursor()\n",
    "except psycopg2.Error as e: \n",
    "    print(\"Error: Could not get the cursor to the database\")\n",
    "    print(e)\n",
    "\n",
    "# Set auto commit feature\n",
    "conn.set_session(autocommit=True)\n",
    "\n",
    "# Create engine\n",
    "engine = create_engine(cnx_str)"
   ]
  },
  {
   "cell_type": "code",
   "execution_count": 93,
   "id": "d650b974",
   "metadata": {},
   "outputs": [],
   "source": [
    "# Create table 'metadata_oil'\n",
    "sql = \"\"\"\n",
    "    CREATE TABLE IF NOT EXISTS metadata_oil (\n",
    "        key text,\n",
    "        value text\n",
    "        )\n",
    "\"\"\"\n",
    "cursor.execute(sql)"
   ]
  },
  {
   "cell_type": "code",
   "execution_count": 12,
   "id": "4ac93db1",
   "metadata": {},
   "outputs": [],
   "source": [
    "# Insert values into table using sqlalchemy\n",
    "df_metadata.to_sql('metadata_oil', engine, if_exists='replace', index=False)"
   ]
  },
  {
   "cell_type": "markdown",
   "id": "6a1812cb",
   "metadata": {},
   "source": [
    "## Close connection"
   ]
  },
  {
   "cell_type": "code",
   "execution_count": 95,
   "id": "32c135e4",
   "metadata": {},
   "outputs": [],
   "source": [
    "# Close connection\n",
    "cursor.close()\n",
    "conn.close()"
   ]
  }
 ],
 "metadata": {
  "kernelspec": {
   "display_name": "Python 3 (ipykernel)",
   "language": "python",
   "name": "python3"
  },
  "language_info": {
   "codemirror_mode": {
    "name": "ipython",
    "version": 3
   },
   "file_extension": ".py",
   "mimetype": "text/x-python",
   "name": "python",
   "nbconvert_exporter": "python",
   "pygments_lexer": "ipython3",
   "version": "3.8.12"
  },
  "toc": {
   "base_numbering": 1,
   "nav_menu": {},
   "number_sections": true,
   "sideBar": true,
   "skip_h1_title": false,
   "title_cell": "Table of Contents",
   "title_sidebar": "Contents",
   "toc_cell": false,
   "toc_position": {},
   "toc_section_display": true,
   "toc_window_display": false
  }
 },
 "nbformat": 4,
 "nbformat_minor": 5
}
