{
 "cells": [
  {
   "cell_type": "code",
   "execution_count": 18,
   "id": "1dc6fdea",
   "metadata": {},
   "outputs": [],
   "source": [
    "# dependencies\n",
    "import pandas as pd\n",
    "import psycopg2 as pg\n",
    "from datetime import date\n",
    "from configparser import ConfigParser"
   ]
  },
  {
   "cell_type": "code",
   "execution_count": 19,
   "id": "86778543",
   "metadata": {},
   "outputs": [
    {
     "data": {
      "text/plain": [
       "[]"
      ]
     },
     "execution_count": 19,
     "metadata": {},
     "output_type": "execute_result"
    }
   ],
   "source": [
    "# reading the configuration file containing the postgres credentials\n",
    "config = ConfigParser()\n",
    "config.read(\"pg_creds.cfg\")"
   ]
  },
  {
   "cell_type": "code",
   "execution_count": 10,
   "id": "9a062d8b",
   "metadata": {},
   "outputs": [],
   "source": [
    "#############################################################################\n",
    "# Extract / Transform\n",
    "#############################################################################\n",
    "\n",
    "\n",
    "def fetchDataToLocal():\n",
    "    \"\"\"\n",
    "    we use the python requests library to fetch the nyc in json format, then\n",
    "    use the pandas library to easily convert from json to a csv saved in the\n",
    "    local data directory\n",
    "    \"\"\"\n",
    "    \n",
    "    # fetching the request\n",
    "    df = pd.read_csv(\"https://data.stadt-zuerich.ch/dataset/ugz_meteodaten_tagesmittelwerte/download/ugz_ogd_meteo_d1_2022.csv\",index_col=None)\n",
    "    \n",
    "    # for integrity reasons, let's attach the current date to the filename\n",
    "    df.to_csv(\"ugz_ogd_meteo_d1_2022_{}.csv\".format(date.today().strftime(\"%Y%m%d\")))\n",
    "    \n",
    "\n",
    "#############################################################################\n",
    "# Load\n",
    "#############################################################################\n",
    "\n",
    "\n",
    "def sqlLoad():\n",
    "    \"\"\"\n",
    "    we make the connection to postgres using the psycopg2 library, create\n",
    "    the schema to hold our covid data, and insert from the local csv file\n",
    "    \"\"\"\n",
    "    \n",
    "    # attempt the connection to postgres\n",
    "    try:\n",
    "        dbconnect = pg.connect(\n",
    "            database=config.get(\"postgres\", \"DATABASE\"),\n",
    "            user=config.get(\"postgres\", \"USERNAME\"),\n",
    "            password=config.get(\"postgres\", \"PASSWORD\"),\n",
    "            host=config.get(\"postgres\", \"HOST\")\n",
    "        )\n",
    "    except Exception as error:\n",
    "        print(error)\n",
    "    \n",
    "    # create the table if it does not already exist\n",
    "    cursor = dbconnect.cursor()\n",
    "    cursor.execute(\"\"\"\n",
    "        CREATE TABLE IF NOT EXISTS weather_data (\n",
    "            Datum DATE,\n",
    "            Standort CHAR(255),\n",
    "            Parameter CHAR(255),\n",
    "            Intervall CHAR(255),\n",
    "            Einheit CHAR(255),\n",
    "            Wert INT,\n",
    "            Status CHAR(255)\n",
    "        );\n",
    "        \n",
    "        TRUNCATE TABLE weather_data;\n",
    "    \"\"\"\n",
    "    )\n",
    "    dbconnect.commit()\n",
    "    \n",
    "    # insert each csv row as a record in our database\n",
    "    with open(\"ugz_ogd_meteo_d1_2022_{}.csv\".format(date.today().strftime(\"%Y%m%d\"))) as f:\n",
    "        next(f) # skip the first row (header)\n",
    "        for row in f:\n",
    "            cursor.execute(\"\"\"\n",
    "                INSERT INTO covid_data\n",
    "                VALUES ('{}', '{}', '{}', '{}')\n",
    "            \"\"\".format(\n",
    "            row.split(\",\")[0],\n",
    "            row.split(\",\")[1],\n",
    "            row.split(\",\")[2],\n",
    "            row.split(\",\")[3])\n",
    "            )\n",
    "    dbconnect.commit()"
   ]
  },
  {
   "cell_type": "code",
   "execution_count": 11,
   "id": "27416135",
   "metadata": {},
   "outputs": [],
   "source": []
  },
  {
   "cell_type": "code",
   "execution_count": 12,
   "id": "e6e866c7",
   "metadata": {},
   "outputs": [
    {
     "name": "stdout",
     "output_type": "stream",
     "text": [
      "                   Datum                 Standort Parameter Intervall Einheit  \\\n",
      "0  2022-01-01T00:00+0100  Zch_Stampfenbachstrasse         T        d1      °C   \n",
      "1  2022-01-01T00:00+0100  Zch_Stampfenbachstrasse   RainDur        d1     min   \n",
      "2  2022-01-01T00:00+0100  Zch_Stampfenbachstrasse         p        d1     hPa   \n",
      "3  2022-01-01T00:00+0100  Zch_Stampfenbachstrasse    StrGlo        d1    W/m2   \n",
      "4  2022-01-01T00:00+0100  Zch_Stampfenbachstrasse  T_max_h1        d1      °C   \n",
      "\n",
      "     Wert        Status  \n",
      "0    6.77  provisorisch  \n",
      "1    0.00  provisorisch  \n",
      "2  976.43  provisorisch  \n",
      "3   66.36  provisorisch  \n",
      "4   10.31  provisorisch  \n"
     ]
    }
   ],
   "source": []
  },
  {
   "cell_type": "code",
   "execution_count": null,
   "id": "9fb39c8a",
   "metadata": {},
   "outputs": [],
   "source": []
  }
 ],
 "metadata": {
  "kernelspec": {
   "display_name": "Python 3 (ipykernel)",
   "language": "python",
   "name": "python3"
  },
  "language_info": {
   "codemirror_mode": {
    "name": "ipython",
    "version": 3
   },
   "file_extension": ".py",
   "mimetype": "text/x-python",
   "name": "python",
   "nbconvert_exporter": "python",
   "pygments_lexer": "ipython3",
   "version": "3.8.12"
  },
  "toc": {
   "base_numbering": 1,
   "nav_menu": {},
   "number_sections": true,
   "sideBar": true,
   "skip_h1_title": false,
   "title_cell": "Table of Contents",
   "title_sidebar": "Contents",
   "toc_cell": false,
   "toc_position": {},
   "toc_section_display": true,
   "toc_window_display": false
  }
 },
 "nbformat": 4,
 "nbformat_minor": 5
}
