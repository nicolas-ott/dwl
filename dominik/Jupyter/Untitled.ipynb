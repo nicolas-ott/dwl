{
 "cells": [
  {
   "cell_type": "markdown",
   "id": "087e5ef8",
   "metadata": {
    "toc": true
   },
   "source": [
    "<h1>Table of Contents<span class=\"tocSkip\"></span></h1>\n",
    "<div class=\"toc\"><ul class=\"toc-item\"><li><span><a href=\"#Preparation\" data-toc-modified-id=\"Preparation-1\"><span class=\"toc-item-num\">1&nbsp;&nbsp;</span>Preparation</a></span><ul class=\"toc-item\"><li><span><a href=\"#Libaries\" data-toc-modified-id=\"Libaries-1.1\"><span class=\"toc-item-num\">1.1&nbsp;&nbsp;</span>Libaries</a></span></li><li><span><a href=\"#Connect-to-Database\" data-toc-modified-id=\"Connect-to-Database-1.2\"><span class=\"toc-item-num\">1.2&nbsp;&nbsp;</span>Connect to Database</a></span></li><li><span><a href=\"#Load-to-Dataframe\" data-toc-modified-id=\"Load-to-Dataframe-1.3\"><span class=\"toc-item-num\">1.3&nbsp;&nbsp;</span>Load to Dataframe</a></span></li></ul></li><li><span><a href=\"#EDA---Daily-weather-data\" data-toc-modified-id=\"EDA---Daily-weather-data-2\"><span class=\"toc-item-num\">2&nbsp;&nbsp;</span>EDA - Daily weather data</a></span></li></ul></div>"
   ]
  },
  {
   "cell_type": "code",
   "execution_count": 2,
   "id": "92f4a930",
   "metadata": {},
   "outputs": [],
   "source": [
    "# dependencies\n",
    "import pandas as pd\n",
    "import psycopg2 as pg\n",
    "from datetime import date\n",
    "from sqlalchemy import create_engine, text, inspect\n",
    "import requests\n",
    "import json\n",
    "import datetime\n",
    "import logging"
   ]
  },
  {
   "cell_type": "markdown",
   "id": "e3ecc1ba",
   "metadata": {},
   "source": [
    "## Preparation"
   ]
  },
  {
   "cell_type": "markdown",
   "id": "e26013a6",
   "metadata": {},
   "source": [
    "### Libaries"
   ]
  },
  {
   "cell_type": "code",
   "execution_count": 12,
   "id": "86673030",
   "metadata": {},
   "outputs": [],
   "source": [
    "import pandas as pd\n",
    "import psycopg2 as pg\n",
    "from datetime import date\n",
    "from sqlalchemy import create_engine, text, inspect\n",
    "import requests\n",
    "import json\n",
    "import datetime\n",
    "import logging"
   ]
  },
  {
   "cell_type": "markdown",
   "id": "1566c63a",
   "metadata": {},
   "source": [
    "### Connect to Database"
   ]
  },
  {
   "cell_type": "code",
   "execution_count": 3,
   "id": "1630ed9a",
   "metadata": {},
   "outputs": [],
   "source": [
    "# DB credentials\n",
    "ENDPOINT = 'trunks.cwh7dj4q8zyj.us-east-1.rds.amazonaws.com'\n",
    "DB_NAME = 'trunks'\n",
    "USERNAME = 'trunks'\n",
    "PASSWORD = 'Corn5!!!'\n",
    "\n",
    "\n",
    "# connection string for sql alchemy engine\n",
    "conn_string = f'postgresql://{USERNAME}:{PASSWORD}@{ENDPOINT}/{DB_NAME}'"
   ]
  },
  {
   "cell_type": "code",
   "execution_count": 9,
   "id": "8b1b638a",
   "metadata": {},
   "outputs": [],
   "source": [
    "# create sql alchemy engine\n",
    "db = create_engine(conn_string)\n",
    "dbconnect = db.connect()"
   ]
  },
  {
   "cell_type": "code",
   "execution_count": 7,
   "id": "25dc2800",
   "metadata": {},
   "outputs": [
    {
     "name": "stdout",
     "output_type": "stream",
     "text": [
      "['weather_hourly_urls', 'weather_daily', 'weather_daily_urls', 'weather_hourly']\n"
     ]
    }
   ],
   "source": [
    " # check existing tables in DB\n",
    "insp = inspect(db)\n",
    "existing_tables = insp.get_table_names()\n",
    "print(existing_tables)"
   ]
  },
  {
   "cell_type": "markdown",
   "id": "8b3a4d1d",
   "metadata": {},
   "source": [
    "### Load to Dataframe"
   ]
  },
  {
   "cell_type": "markdown",
   "id": "a8a2557e",
   "metadata": {},
   "source": [
    "We first load both tables (daily and houly) into pandas dataframes "
   ]
  },
  {
   "cell_type": "code",
   "execution_count": 11,
   "id": "dceb88d1",
   "metadata": {},
   "outputs": [],
   "source": [
    "df_daily = pd.read_sql_table('weather_daily', dbconnect) #daily aggregated data\n",
    "df_hourly = pd.read_sql_table('weather_hourly', dbconnect) #hourly data (note: longer loading time)"
   ]
  },
  {
   "cell_type": "markdown",
   "id": "22bfedf6",
   "metadata": {},
   "source": [
    "## EDA - Daily weather data"
   ]
  },
  {
   "cell_type": "code",
   "execution_count": 13,
   "id": "e453c10a",
   "metadata": {},
   "outputs": [
    {
     "name": "stdout",
     "output_type": "stream",
     "text": [
      "<class 'pandas.core.frame.DataFrame'>\n",
      "RangeIndex: 86610 entries, 0 to 86609\n",
      "Data columns (total 7 columns):\n",
      " #   Column     Non-Null Count  Dtype \n",
      "---  ------     --------------  ----- \n",
      " 0   Datum      86610 non-null  object\n",
      " 1   Standort   86610 non-null  object\n",
      " 2   Parameter  86610 non-null  object\n",
      " 3   Intervall  86610 non-null  object\n",
      " 4   Einheit    86610 non-null  object\n",
      " 5   Wert       85515 non-null  object\n",
      " 6   Status     86610 non-null  object\n",
      "dtypes: object(7)\n",
      "memory usage: 4.6+ MB\n"
     ]
    }
   ],
   "source": [
    "df_daily.info()"
   ]
  },
  {
   "cell_type": "code",
   "execution_count": 14,
   "id": "0fb439aa",
   "metadata": {},
   "outputs": [
    {
     "data": {
      "text/html": [
       "<div>\n",
       "<style scoped>\n",
       "    .dataframe tbody tr th:only-of-type {\n",
       "        vertical-align: middle;\n",
       "    }\n",
       "\n",
       "    .dataframe tbody tr th {\n",
       "        vertical-align: top;\n",
       "    }\n",
       "\n",
       "    .dataframe thead th {\n",
       "        text-align: right;\n",
       "    }\n",
       "</style>\n",
       "<table border=\"1\" class=\"dataframe\">\n",
       "  <thead>\n",
       "    <tr style=\"text-align: right;\">\n",
       "      <th></th>\n",
       "      <th>Datum</th>\n",
       "      <th>Standort</th>\n",
       "      <th>Parameter</th>\n",
       "      <th>Intervall</th>\n",
       "      <th>Einheit</th>\n",
       "      <th>Wert</th>\n",
       "      <th>Status</th>\n",
       "    </tr>\n",
       "  </thead>\n",
       "  <tbody>\n",
       "    <tr>\n",
       "      <th>count</th>\n",
       "      <td>86610</td>\n",
       "      <td>86610</td>\n",
       "      <td>86610</td>\n",
       "      <td>86610</td>\n",
       "      <td>86610</td>\n",
       "      <td>85515</td>\n",
       "      <td>86610</td>\n",
       "    </tr>\n",
       "    <tr>\n",
       "      <th>unique</th>\n",
       "      <td>10883</td>\n",
       "      <td>3</td>\n",
       "      <td>5</td>\n",
       "      <td>1</td>\n",
       "      <td>4</td>\n",
       "      <td>20319</td>\n",
       "      <td>2</td>\n",
       "    </tr>\n",
       "    <tr>\n",
       "      <th>top</th>\n",
       "      <td>2018-12-31T00:00+0100</td>\n",
       "      <td>Zch_Stampfenbachstrasse</td>\n",
       "      <td>T</td>\n",
       "      <td>d1</td>\n",
       "      <td>°C</td>\n",
       "      <td>0</td>\n",
       "      <td>bereinigt</td>\n",
       "    </tr>\n",
       "    <tr>\n",
       "      <th>freq</th>\n",
       "      <td>13</td>\n",
       "      <td>50742</td>\n",
       "      <td>20302</td>\n",
       "      <td>86610</td>\n",
       "      <td>40604</td>\n",
       "      <td>6715</td>\n",
       "      <td>75716</td>\n",
       "    </tr>\n",
       "  </tbody>\n",
       "</table>\n",
       "</div>"
      ],
      "text/plain": [
       "                        Datum                 Standort Parameter Intervall  \\\n",
       "count                   86610                    86610     86610     86610   \n",
       "unique                  10883                        3         5         1   \n",
       "top     2018-12-31T00:00+0100  Zch_Stampfenbachstrasse         T        d1   \n",
       "freq                       13                    50742     20302     86610   \n",
       "\n",
       "       Einheit   Wert     Status  \n",
       "count    86610  85515      86610  \n",
       "unique       4  20319          2  \n",
       "top         °C      0  bereinigt  \n",
       "freq     40604   6715      75716  "
      ]
     },
     "execution_count": 14,
     "metadata": {},
     "output_type": "execute_result"
    }
   ],
   "source": [
    "df_daily.describe()"
   ]
  },
  {
   "cell_type": "code",
   "execution_count": null,
   "id": "1d03c895",
   "metadata": {},
   "outputs": [],
   "source": []
  }
 ],
 "metadata": {
  "kernelspec": {
   "display_name": "Python 3 (ipykernel)",
   "language": "python",
   "name": "python3"
  },
  "language_info": {
   "codemirror_mode": {
    "name": "ipython",
    "version": 3
   },
   "file_extension": ".py",
   "mimetype": "text/x-python",
   "name": "python",
   "nbconvert_exporter": "python",
   "pygments_lexer": "ipython3",
   "version": "3.9.12"
  },
  "toc": {
   "base_numbering": 1,
   "nav_menu": {},
   "number_sections": true,
   "sideBar": true,
   "skip_h1_title": false,
   "title_cell": "Table of Contents",
   "title_sidebar": "Contents",
   "toc_cell": true,
   "toc_position": {},
   "toc_section_display": true,
   "toc_window_display": false
  }
 },
 "nbformat": 4,
 "nbformat_minor": 5
}
