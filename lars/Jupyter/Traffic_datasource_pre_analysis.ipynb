{
 "cells": [
  {
   "cell_type": "markdown",
   "id": "protective-quarter",
   "metadata": {},
   "source": [
    "## Preanalysis of the traffic data "
   ]
  },
  {
   "cell_type": "code",
   "execution_count": 1,
   "id": "announced-router",
   "metadata": {},
   "outputs": [],
   "source": [
    "# import needed packages\n",
    "import requests\n",
    "import json\n",
    "import pprint\n",
    "import pandas as pd\n",
    "from sqlalchemy import create_engine, text, inspect\n",
    "from datetime import date"
   ]
  },
  {
   "cell_type": "markdown",
   "id": "billion-worthy",
   "metadata": {},
   "source": [
    "### Connection details for db and api "
   ]
  },
  {
   "cell_type": "code",
   "execution_count": 2,
   "id": "recent-variation",
   "metadata": {},
   "outputs": [],
   "source": [
    "ENDPOINT = 'traffic.cqznezykh98v.us-east-1.rds.amazonaws.com'\n",
    "DB_NAME = 'traffic'\n",
    "USERNAME = 'admin_user'\n",
    "PASSWORD = 'KAjUGqLSwNhTrf6m58Ap'"
   ]
  },
  {
   "cell_type": "code",
   "execution_count": 3,
   "id": "understanding-donor",
   "metadata": {},
   "outputs": [],
   "source": [
    "# DB table name\n",
    "table_name = 'miv_hourly'\n",
    "\n",
    "# connection string for sql alchemy engine\n",
    "conn_string = f'postgresql://{USERNAME}:{PASSWORD}@{ENDPOINT}/{DB_NAME}'\n",
    "\n",
    "# Package list of the Swiss open data portal\n",
    "base_url = 'https://opendata.swiss/api/3/action/package_show?id='\n",
    "# packages = 'https://opendata.swiss/api/3/action/package_list'\n",
    "package = 'daten-der-verkehrszahlung-stundenwerte-seit-2012'"
   ]
  },
  {
   "cell_type": "markdown",
   "id": "generous-postcard",
   "metadata": {},
   "source": [
    "### request the url to request the csv files for the data of each year from the Open Data Swiss API"
   ]
  },
  {
   "cell_type": "code",
   "execution_count": 6,
   "id": "unexpected-retention",
   "metadata": {},
   "outputs": [
    {
     "data": {
      "text/html": [
       "<div>\n",
       "<style scoped>\n",
       "    .dataframe tbody tr th:only-of-type {\n",
       "        vertical-align: middle;\n",
       "    }\n",
       "\n",
       "    .dataframe tbody tr th {\n",
       "        vertical-align: top;\n",
       "    }\n",
       "\n",
       "    .dataframe thead th {\n",
       "        text-align: right;\n",
       "    }\n",
       "</style>\n",
       "<table border=\"1\" class=\"dataframe\">\n",
       "  <thead>\n",
       "    <tr style=\"text-align: right;\">\n",
       "      <th></th>\n",
       "      <th>year</th>\n",
       "      <th>filename</th>\n",
       "      <th>package_id</th>\n",
       "      <th>url</th>\n",
       "      <th>uri</th>\n",
       "      <th>format</th>\n",
       "    </tr>\n",
       "  </thead>\n",
       "  <tbody>\n",
       "    <tr>\n",
       "      <th>0</th>\n",
       "      <td>2014</td>\n",
       "      <td>hlung_miv_OD2031_2014</td>\n",
       "      <td>f80fd59a-e52a-4caa-8b39-287662c0c517</td>\n",
       "      <td>https://data.stadt-zuerich.ch/dataset/sid_dav_...</td>\n",
       "      <td>https://ckan-ogdzh.clients.liip.ch/dataset/621...</td>\n",
       "      <td>CSV</td>\n",
       "    </tr>\n",
       "    <tr>\n",
       "      <th>1</th>\n",
       "      <td>2018</td>\n",
       "      <td>hlung_miv_OD2031_2018</td>\n",
       "      <td>f80fd59a-e52a-4caa-8b39-287662c0c517</td>\n",
       "      <td>https://data.stadt-zuerich.ch/dataset/sid_dav_...</td>\n",
       "      <td>https://ckan-ogdzh.clients.liip.ch/dataset/621...</td>\n",
       "      <td>CSV</td>\n",
       "    </tr>\n",
       "    <tr>\n",
       "      <th>2</th>\n",
       "      <td>2020</td>\n",
       "      <td>hlung_miv_OD2031_2020</td>\n",
       "      <td>f80fd59a-e52a-4caa-8b39-287662c0c517</td>\n",
       "      <td>https://data.stadt-zuerich.ch/dataset/sid_dav_...</td>\n",
       "      <td>https://ckan-ogdzh.clients.liip.ch/dataset/621...</td>\n",
       "      <td>CSV</td>\n",
       "    </tr>\n",
       "    <tr>\n",
       "      <th>3</th>\n",
       "      <td>2012</td>\n",
       "      <td>hlung_miv_OD2031_2012</td>\n",
       "      <td>f80fd59a-e52a-4caa-8b39-287662c0c517</td>\n",
       "      <td>https://data.stadt-zuerich.ch/dataset/sid_dav_...</td>\n",
       "      <td>https://ckan-ogdzh.clients.liip.ch/dataset/621...</td>\n",
       "      <td>CSV</td>\n",
       "    </tr>\n",
       "    <tr>\n",
       "      <th>4</th>\n",
       "      <td>2021</td>\n",
       "      <td>hlung_miv_OD2031_2021</td>\n",
       "      <td>f80fd59a-e52a-4caa-8b39-287662c0c517</td>\n",
       "      <td>https://data.stadt-zuerich.ch/dataset/sid_dav_...</td>\n",
       "      <td>https://ckan-ogdzh.clients.liip.ch/dataset/621...</td>\n",
       "      <td>CSV</td>\n",
       "    </tr>\n",
       "    <tr>\n",
       "      <th>5</th>\n",
       "      <td>2016</td>\n",
       "      <td>hlung_miv_OD2031_2016</td>\n",
       "      <td>f80fd59a-e52a-4caa-8b39-287662c0c517</td>\n",
       "      <td>https://data.stadt-zuerich.ch/dataset/sid_dav_...</td>\n",
       "      <td>https://ckan-ogdzh.clients.liip.ch/dataset/621...</td>\n",
       "      <td>CSV</td>\n",
       "    </tr>\n",
       "    <tr>\n",
       "      <th>6</th>\n",
       "      <td>2015</td>\n",
       "      <td>hlung_miv_OD2031_2015</td>\n",
       "      <td>f80fd59a-e52a-4caa-8b39-287662c0c517</td>\n",
       "      <td>https://data.stadt-zuerich.ch/dataset/sid_dav_...</td>\n",
       "      <td>https://ckan-ogdzh.clients.liip.ch/dataset/621...</td>\n",
       "      <td>CSV</td>\n",
       "    </tr>\n",
       "    <tr>\n",
       "      <th>7</th>\n",
       "      <td>2022</td>\n",
       "      <td>hlung_miv_OD2031_2022</td>\n",
       "      <td>f80fd59a-e52a-4caa-8b39-287662c0c517</td>\n",
       "      <td>https://data.stadt-zuerich.ch/dataset/sid_dav_...</td>\n",
       "      <td>https://ckan-ogdzh.clients.liip.ch/dataset/621...</td>\n",
       "      <td>CSV</td>\n",
       "    </tr>\n",
       "    <tr>\n",
       "      <th>8</th>\n",
       "      <td>2017</td>\n",
       "      <td>hlung_miv_OD2031_2017</td>\n",
       "      <td>f80fd59a-e52a-4caa-8b39-287662c0c517</td>\n",
       "      <td>https://data.stadt-zuerich.ch/dataset/sid_dav_...</td>\n",
       "      <td>https://ckan-ogdzh.clients.liip.ch/dataset/621...</td>\n",
       "      <td>CSV</td>\n",
       "    </tr>\n",
       "    <tr>\n",
       "      <th>9</th>\n",
       "      <td>2013</td>\n",
       "      <td>hlung_miv_OD2031_2013</td>\n",
       "      <td>f80fd59a-e52a-4caa-8b39-287662c0c517</td>\n",
       "      <td>https://data.stadt-zuerich.ch/dataset/sid_dav_...</td>\n",
       "      <td>https://ckan-ogdzh.clients.liip.ch/dataset/621...</td>\n",
       "      <td>CSV</td>\n",
       "    </tr>\n",
       "    <tr>\n",
       "      <th>12</th>\n",
       "      <td>2019</td>\n",
       "      <td>hlung_miv_OD2031_2019</td>\n",
       "      <td>f80fd59a-e52a-4caa-8b39-287662c0c517</td>\n",
       "      <td>https://data.stadt-zuerich.ch/dataset/sid_dav_...</td>\n",
       "      <td>https://ckan-ogdzh.clients.liip.ch/dataset/621...</td>\n",
       "      <td>CSV</td>\n",
       "    </tr>\n",
       "  </tbody>\n",
       "</table>\n",
       "</div>"
      ],
      "text/plain": [
       "    year               filename                            package_id  \\\n",
       "0   2014  hlung_miv_OD2031_2014  f80fd59a-e52a-4caa-8b39-287662c0c517   \n",
       "1   2018  hlung_miv_OD2031_2018  f80fd59a-e52a-4caa-8b39-287662c0c517   \n",
       "2   2020  hlung_miv_OD2031_2020  f80fd59a-e52a-4caa-8b39-287662c0c517   \n",
       "3   2012  hlung_miv_OD2031_2012  f80fd59a-e52a-4caa-8b39-287662c0c517   \n",
       "4   2021  hlung_miv_OD2031_2021  f80fd59a-e52a-4caa-8b39-287662c0c517   \n",
       "5   2016  hlung_miv_OD2031_2016  f80fd59a-e52a-4caa-8b39-287662c0c517   \n",
       "6   2015  hlung_miv_OD2031_2015  f80fd59a-e52a-4caa-8b39-287662c0c517   \n",
       "7   2022  hlung_miv_OD2031_2022  f80fd59a-e52a-4caa-8b39-287662c0c517   \n",
       "8   2017  hlung_miv_OD2031_2017  f80fd59a-e52a-4caa-8b39-287662c0c517   \n",
       "9   2013  hlung_miv_OD2031_2013  f80fd59a-e52a-4caa-8b39-287662c0c517   \n",
       "12  2019  hlung_miv_OD2031_2019  f80fd59a-e52a-4caa-8b39-287662c0c517   \n",
       "\n",
       "                                                  url  \\\n",
       "0   https://data.stadt-zuerich.ch/dataset/sid_dav_...   \n",
       "1   https://data.stadt-zuerich.ch/dataset/sid_dav_...   \n",
       "2   https://data.stadt-zuerich.ch/dataset/sid_dav_...   \n",
       "3   https://data.stadt-zuerich.ch/dataset/sid_dav_...   \n",
       "4   https://data.stadt-zuerich.ch/dataset/sid_dav_...   \n",
       "5   https://data.stadt-zuerich.ch/dataset/sid_dav_...   \n",
       "6   https://data.stadt-zuerich.ch/dataset/sid_dav_...   \n",
       "7   https://data.stadt-zuerich.ch/dataset/sid_dav_...   \n",
       "8   https://data.stadt-zuerich.ch/dataset/sid_dav_...   \n",
       "9   https://data.stadt-zuerich.ch/dataset/sid_dav_...   \n",
       "12  https://data.stadt-zuerich.ch/dataset/sid_dav_...   \n",
       "\n",
       "                                                  uri format  \n",
       "0   https://ckan-ogdzh.clients.liip.ch/dataset/621...    CSV  \n",
       "1   https://ckan-ogdzh.clients.liip.ch/dataset/621...    CSV  \n",
       "2   https://ckan-ogdzh.clients.liip.ch/dataset/621...    CSV  \n",
       "3   https://ckan-ogdzh.clients.liip.ch/dataset/621...    CSV  \n",
       "4   https://ckan-ogdzh.clients.liip.ch/dataset/621...    CSV  \n",
       "5   https://ckan-ogdzh.clients.liip.ch/dataset/621...    CSV  \n",
       "6   https://ckan-ogdzh.clients.liip.ch/dataset/621...    CSV  \n",
       "7   https://ckan-ogdzh.clients.liip.ch/dataset/621...    CSV  \n",
       "8   https://ckan-ogdzh.clients.liip.ch/dataset/621...    CSV  \n",
       "9   https://ckan-ogdzh.clients.liip.ch/dataset/621...    CSV  \n",
       "12  https://ckan-ogdzh.clients.liip.ch/dataset/621...    CSV  "
      ]
     },
     "execution_count": 6,
     "metadata": {},
     "output_type": "execute_result"
    }
   ],
   "source": [
    "# Make the HTTP request\n",
    "package_information = requests.get(base_url + package)\n",
    "\n",
    "# Use the json module to load CKAN's response into a dictionary\n",
    "package_dict = json.loads(package_information.content)\n",
    "\n",
    "# Check the contents of the response.\n",
    "assert package_dict['success'] is True  # again make sure if response is OK\n",
    "package_dict = package_dict['result']  # we only need the 'result' part from the dictionary\n",
    "# pprint.pprint(package_dict)  # pretty print the package information to screen\n",
    "\n",
    "# Get the relevant metadata for the data from the dictionary\n",
    "df_sources = pd.DataFrame({'year': [], 'filename': [], 'package_id': [], 'url': [], 'uri': [], 'format': []})\n",
    "\n",
    "for ele in package_dict['resources']:\n",
    "    to_append = [ele['url'][-8:-4], ele['url'][-25:-4], ele['package_id'], ele['url'], ele['uri'], ele['format']]\n",
    "    df_sources.loc[len(df_sources)] = to_append\n",
    "\n",
    "df_sources = df_sources[df_sources['format'] == \"CSV\"]  # only keep csv files in the dataframe\n",
    "df_sources['year'] = df_sources['year'].astype(int)  # convert year to int\n",
    "df_sources"
   ]
  },
  {
   "cell_type": "markdown",
   "id": "outdoor-emphasis",
   "metadata": {},
   "source": [
    "### load data for all years in dataframe"
   ]
  },
  {
   "cell_type": "code",
   "execution_count": 9,
   "id": "virgin-conducting",
   "metadata": {},
   "outputs": [
    {
     "name": "stderr",
     "output_type": "stream",
     "text": [
      "c:\\users\\larsn\\appdata\\local\\programs\\python\\python39\\lib\\site-packages\\pandas\\core\\reshape\\concat.py:348: DtypeWarning: Columns (5,14) have mixed types.Specify dtype option on import or set low_memory=False.\n",
      "  objs = list(objs)\n"
     ]
    }
   ],
   "source": [
    "df = pd.concat(map(lambda file: pd.read_csv(file), \n",
    "                   list(df_sources[\"url\"])), ignore_index=True)\n",
    "df"
   ]
  },
  {
   "cell_type": "markdown",
   "id": "sufficient-olympus",
   "metadata": {},
   "source": [
    "### determine the needed measuring locations"
   ]
  },
  {
   "cell_type": "code",
   "execution_count": 34,
   "id": "convinced-guarantee",
   "metadata": {},
   "outputs": [
    {
     "data": {
      "text/plain": [
       "array(['Z068'], dtype=object)"
      ]
     },
     "execution_count": 34,
     "metadata": {},
     "output_type": "execute_result"
    }
   ],
   "source": [
    "df.loc[df['Achse'] == \"Schimmelstrasse\"][\"ZSID\"].unique()"
   ]
  },
  {
   "cell_type": "code",
   "execution_count": 35,
   "id": "freelance-institute",
   "metadata": {},
   "outputs": [
    {
     "data": {
      "text/plain": [
       "array(['Z058'], dtype=object)"
      ]
     },
     "execution_count": 35,
     "metadata": {},
     "output_type": "execute_result"
    }
   ],
   "source": [
    "df.loc[df['Achse'] == \"Stampfenbachstrasse\"][\"ZSID\"].unique()"
   ]
  },
  {
   "cell_type": "code",
   "execution_count": 36,
   "id": "monetary-tooth",
   "metadata": {},
   "outputs": [
    {
     "data": {
      "text/plain": [
       "array(['Z026', 'Z038'], dtype=object)"
      ]
     },
     "execution_count": 36,
     "metadata": {},
     "output_type": "execute_result"
    }
   ],
   "source": [
    "df.loc[df['Achse'] == \"Rosengartenstrasse\"][\"ZSID\"].unique()"
   ]
  },
  {
   "cell_type": "markdown",
   "id": "rational-primary",
   "metadata": {},
   "source": [
    "Above are the different measuring location ID's for the needed locations listed. The Rosengartenstrasse location has two different measuring stations. For our project the station with the id Z038 is used. "
   ]
  },
  {
   "cell_type": "markdown",
   "id": "liberal-albert",
   "metadata": {},
   "source": [
    "### Delete the not needed measuring locations"
   ]
  },
  {
   "cell_type": "code",
   "execution_count": 38,
   "id": "hungry-andorra",
   "metadata": {},
   "outputs": [],
   "source": [
    "df = df.loc[df['ZSID'].isin([\"Z068\", \"Z058\", \"Z038\"])]"
   ]
  },
  {
   "cell_type": "markdown",
   "id": "virtual-intelligence",
   "metadata": {},
   "source": [
    "### overview over columns and dtypes"
   ]
  },
  {
   "cell_type": "code",
   "execution_count": 60,
   "id": "twenty-scanner",
   "metadata": {},
   "outputs": [
    {
     "name": "stdout",
     "output_type": "stream",
     "text": [
      "<class 'pandas.core.frame.DataFrame'>\n",
      "Int64Index: 541572 entries, 613200 to 15129805\n",
      "Data columns (total 21 columns):\n",
      " #   Column              Non-Null Count   Dtype  \n",
      "---  ------              --------------   -----  \n",
      " 0   MSID                541572 non-null  object \n",
      " 1   MSName              541572 non-null  object \n",
      " 2   ZSID                541572 non-null  object \n",
      " 3   ZSName              541572 non-null  object \n",
      " 4   Achse               541572 non-null  object \n",
      " 5   HNr                 541572 non-null  object \n",
      " 6   Hoehe               541572 non-null  object \n",
      " 7   EKoord              541572 non-null  float64\n",
      " 8   NKoord              541572 non-null  float64\n",
      " 9   Richtung            541572 non-null  object \n",
      " 10  Knummer             541572 non-null  int64  \n",
      " 11  Kname               541572 non-null  object \n",
      " 12  AnzDetektoren       541572 non-null  int64  \n",
      " 13  D1ID                541572 non-null  int64  \n",
      " 14  D2ID                541572 non-null  object \n",
      " 15  D3ID                541572 non-null  object \n",
      " 16  D4ID                541572 non-null  object \n",
      " 17  MessungDatZeit      541572 non-null  object \n",
      " 18  LieferDat           541572 non-null  object \n",
      " 19  AnzFahrzeuge        488636 non-null  float64\n",
      " 20  AnzFahrzeugeStatus  541572 non-null  object \n",
      "dtypes: float64(3), int64(3), object(15)\n",
      "memory usage: 90.9+ MB\n"
     ]
    }
   ],
   "source": [
    "df.info()"
   ]
  },
  {
   "cell_type": "code",
   "execution_count": 59,
   "id": "blessed-wednesday",
   "metadata": {},
   "outputs": [
    {
     "data": {
      "text/html": [
       "<div>\n",
       "<style scoped>\n",
       "    .dataframe tbody tr th:only-of-type {\n",
       "        vertical-align: middle;\n",
       "    }\n",
       "\n",
       "    .dataframe tbody tr th {\n",
       "        vertical-align: top;\n",
       "    }\n",
       "\n",
       "    .dataframe thead th {\n",
       "        text-align: right;\n",
       "    }\n",
       "</style>\n",
       "<table border=\"1\" class=\"dataframe\">\n",
       "  <thead>\n",
       "    <tr style=\"text-align: right;\">\n",
       "      <th></th>\n",
       "      <th>MSID</th>\n",
       "      <th>MSName</th>\n",
       "      <th>ZSID</th>\n",
       "      <th>ZSName</th>\n",
       "      <th>Achse</th>\n",
       "      <th>HNr</th>\n",
       "      <th>Hoehe</th>\n",
       "      <th>EKoord</th>\n",
       "      <th>NKoord</th>\n",
       "      <th>Richtung</th>\n",
       "      <th>...</th>\n",
       "      <th>Kname</th>\n",
       "      <th>AnzDetektoren</th>\n",
       "      <th>D1ID</th>\n",
       "      <th>D2ID</th>\n",
       "      <th>D3ID</th>\n",
       "      <th>D4ID</th>\n",
       "      <th>MessungDatZeit</th>\n",
       "      <th>LieferDat</th>\n",
       "      <th>AnzFahrzeuge</th>\n",
       "      <th>AnzFahrzeugeStatus</th>\n",
       "    </tr>\n",
       "  </thead>\n",
       "  <tbody>\n",
       "    <tr>\n",
       "      <th>613200</th>\n",
       "      <td>Z038M001</td>\n",
       "      <td>Unbekannt</td>\n",
       "      <td>Z038</td>\n",
       "      <td>Rosengartenstrasse (Nordstrasse)</td>\n",
       "      <td>Rosengartenstrasse</td>\n",
       "      <td>23</td>\n",
       "      <td>Unbekannt</td>\n",
       "      <td>2682070.59</td>\n",
       "      <td>1249909.12</td>\n",
       "      <td>Bucheggplatz</td>\n",
       "      <td>...</td>\n",
       "      <td>Nordstr/Röschibachsteig/Rosengartenbrücke</td>\n",
       "      <td>2</td>\n",
       "      <td>14</td>\n",
       "      <td>15</td>\n",
       "      <td>Unbekannt</td>\n",
       "      <td>Unbekannt</td>\n",
       "      <td>2014-01-01T00:00:00</td>\n",
       "      <td>2021-02-03</td>\n",
       "      <td>NaN</td>\n",
       "      <td>Fehlend</td>\n",
       "    </tr>\n",
       "    <tr>\n",
       "      <th>613201</th>\n",
       "      <td>Z038M001</td>\n",
       "      <td>Unbekannt</td>\n",
       "      <td>Z038</td>\n",
       "      <td>Rosengartenstrasse (Nordstrasse)</td>\n",
       "      <td>Rosengartenstrasse</td>\n",
       "      <td>23</td>\n",
       "      <td>Unbekannt</td>\n",
       "      <td>2682070.59</td>\n",
       "      <td>1249909.12</td>\n",
       "      <td>Bucheggplatz</td>\n",
       "      <td>...</td>\n",
       "      <td>Nordstr/Röschibachsteig/Rosengartenbrücke</td>\n",
       "      <td>2</td>\n",
       "      <td>14</td>\n",
       "      <td>15</td>\n",
       "      <td>Unbekannt</td>\n",
       "      <td>Unbekannt</td>\n",
       "      <td>2014-01-01T01:00:00</td>\n",
       "      <td>2021-02-03</td>\n",
       "      <td>NaN</td>\n",
       "      <td>Fehlend</td>\n",
       "    </tr>\n",
       "    <tr>\n",
       "      <th>613202</th>\n",
       "      <td>Z038M001</td>\n",
       "      <td>Unbekannt</td>\n",
       "      <td>Z038</td>\n",
       "      <td>Rosengartenstrasse (Nordstrasse)</td>\n",
       "      <td>Rosengartenstrasse</td>\n",
       "      <td>23</td>\n",
       "      <td>Unbekannt</td>\n",
       "      <td>2682070.59</td>\n",
       "      <td>1249909.12</td>\n",
       "      <td>Bucheggplatz</td>\n",
       "      <td>...</td>\n",
       "      <td>Nordstr/Röschibachsteig/Rosengartenbrücke</td>\n",
       "      <td>2</td>\n",
       "      <td>14</td>\n",
       "      <td>15</td>\n",
       "      <td>Unbekannt</td>\n",
       "      <td>Unbekannt</td>\n",
       "      <td>2014-01-01T02:00:00</td>\n",
       "      <td>2021-02-03</td>\n",
       "      <td>NaN</td>\n",
       "      <td>Fehlend</td>\n",
       "    </tr>\n",
       "    <tr>\n",
       "      <th>613203</th>\n",
       "      <td>Z038M001</td>\n",
       "      <td>Unbekannt</td>\n",
       "      <td>Z038</td>\n",
       "      <td>Rosengartenstrasse (Nordstrasse)</td>\n",
       "      <td>Rosengartenstrasse</td>\n",
       "      <td>23</td>\n",
       "      <td>Unbekannt</td>\n",
       "      <td>2682070.59</td>\n",
       "      <td>1249909.12</td>\n",
       "      <td>Bucheggplatz</td>\n",
       "      <td>...</td>\n",
       "      <td>Nordstr/Röschibachsteig/Rosengartenbrücke</td>\n",
       "      <td>2</td>\n",
       "      <td>14</td>\n",
       "      <td>15</td>\n",
       "      <td>Unbekannt</td>\n",
       "      <td>Unbekannt</td>\n",
       "      <td>2014-01-01T03:00:00</td>\n",
       "      <td>2021-02-03</td>\n",
       "      <td>NaN</td>\n",
       "      <td>Fehlend</td>\n",
       "    </tr>\n",
       "    <tr>\n",
       "      <th>613204</th>\n",
       "      <td>Z038M001</td>\n",
       "      <td>Unbekannt</td>\n",
       "      <td>Z038</td>\n",
       "      <td>Rosengartenstrasse (Nordstrasse)</td>\n",
       "      <td>Rosengartenstrasse</td>\n",
       "      <td>23</td>\n",
       "      <td>Unbekannt</td>\n",
       "      <td>2682070.59</td>\n",
       "      <td>1249909.12</td>\n",
       "      <td>Bucheggplatz</td>\n",
       "      <td>...</td>\n",
       "      <td>Nordstr/Röschibachsteig/Rosengartenbrücke</td>\n",
       "      <td>2</td>\n",
       "      <td>14</td>\n",
       "      <td>15</td>\n",
       "      <td>Unbekannt</td>\n",
       "      <td>Unbekannt</td>\n",
       "      <td>2014-01-01T04:00:00</td>\n",
       "      <td>2021-02-03</td>\n",
       "      <td>NaN</td>\n",
       "      <td>Fehlend</td>\n",
       "    </tr>\n",
       "    <tr>\n",
       "      <th>...</th>\n",
       "      <td>...</td>\n",
       "      <td>...</td>\n",
       "      <td>...</td>\n",
       "      <td>...</td>\n",
       "      <td>...</td>\n",
       "      <td>...</td>\n",
       "      <td>...</td>\n",
       "      <td>...</td>\n",
       "      <td>...</td>\n",
       "      <td>...</td>\n",
       "      <td>...</td>\n",
       "      <td>...</td>\n",
       "      <td>...</td>\n",
       "      <td>...</td>\n",
       "      <td>...</td>\n",
       "      <td>...</td>\n",
       "      <td>...</td>\n",
       "      <td>...</td>\n",
       "      <td>...</td>\n",
       "      <td>...</td>\n",
       "      <td>...</td>\n",
       "    </tr>\n",
       "    <tr>\n",
       "      <th>15125624</th>\n",
       "      <td>Z068M002</td>\n",
       "      <td>Unbekannt</td>\n",
       "      <td>Z068</td>\n",
       "      <td>Schimmelstrasse (Werdstrasse)</td>\n",
       "      <td>Schimmelstrasse</td>\n",
       "      <td>10</td>\n",
       "      <td>Unbekannt</td>\n",
       "      <td>2682054.00</td>\n",
       "      <td>1247168.00</td>\n",
       "      <td>Bahnhof Wiedikon</td>\n",
       "      <td>...</td>\n",
       "      <td>Schimmel-/Werdstr (Schulweg)</td>\n",
       "      <td>1</td>\n",
       "      <td>12</td>\n",
       "      <td>Unbekannt</td>\n",
       "      <td>Unbekannt</td>\n",
       "      <td>Unbekannt</td>\n",
       "      <td>2019-07-10T19:00:00</td>\n",
       "      <td>2021-02-03</td>\n",
       "      <td>NaN</td>\n",
       "      <td>Fehlend</td>\n",
       "    </tr>\n",
       "    <tr>\n",
       "      <th>15125625</th>\n",
       "      <td>Z068M002</td>\n",
       "      <td>Unbekannt</td>\n",
       "      <td>Z068</td>\n",
       "      <td>Schimmelstrasse (Werdstrasse)</td>\n",
       "      <td>Schimmelstrasse</td>\n",
       "      <td>10</td>\n",
       "      <td>Unbekannt</td>\n",
       "      <td>2682054.00</td>\n",
       "      <td>1247168.00</td>\n",
       "      <td>Bahnhof Wiedikon</td>\n",
       "      <td>...</td>\n",
       "      <td>Schimmel-/Werdstr (Schulweg)</td>\n",
       "      <td>1</td>\n",
       "      <td>12</td>\n",
       "      <td>Unbekannt</td>\n",
       "      <td>Unbekannt</td>\n",
       "      <td>Unbekannt</td>\n",
       "      <td>2019-07-10T20:00:00</td>\n",
       "      <td>2021-02-03</td>\n",
       "      <td>NaN</td>\n",
       "      <td>Fehlend</td>\n",
       "    </tr>\n",
       "    <tr>\n",
       "      <th>15125626</th>\n",
       "      <td>Z068M002</td>\n",
       "      <td>Unbekannt</td>\n",
       "      <td>Z068</td>\n",
       "      <td>Schimmelstrasse (Werdstrasse)</td>\n",
       "      <td>Schimmelstrasse</td>\n",
       "      <td>10</td>\n",
       "      <td>Unbekannt</td>\n",
       "      <td>2682054.00</td>\n",
       "      <td>1247168.00</td>\n",
       "      <td>Bahnhof Wiedikon</td>\n",
       "      <td>...</td>\n",
       "      <td>Schimmel-/Werdstr (Schulweg)</td>\n",
       "      <td>1</td>\n",
       "      <td>12</td>\n",
       "      <td>Unbekannt</td>\n",
       "      <td>Unbekannt</td>\n",
       "      <td>Unbekannt</td>\n",
       "      <td>2019-07-10T21:00:00</td>\n",
       "      <td>2021-02-03</td>\n",
       "      <td>NaN</td>\n",
       "      <td>Fehlend</td>\n",
       "    </tr>\n",
       "    <tr>\n",
       "      <th>15125627</th>\n",
       "      <td>Z068M002</td>\n",
       "      <td>Unbekannt</td>\n",
       "      <td>Z068</td>\n",
       "      <td>Schimmelstrasse (Werdstrasse)</td>\n",
       "      <td>Schimmelstrasse</td>\n",
       "      <td>10</td>\n",
       "      <td>Unbekannt</td>\n",
       "      <td>2682054.00</td>\n",
       "      <td>1247168.00</td>\n",
       "      <td>Bahnhof Wiedikon</td>\n",
       "      <td>...</td>\n",
       "      <td>Schimmel-/Werdstr (Schulweg)</td>\n",
       "      <td>1</td>\n",
       "      <td>12</td>\n",
       "      <td>Unbekannt</td>\n",
       "      <td>Unbekannt</td>\n",
       "      <td>Unbekannt</td>\n",
       "      <td>2019-07-10T22:00:00</td>\n",
       "      <td>2021-02-03</td>\n",
       "      <td>NaN</td>\n",
       "      <td>Fehlend</td>\n",
       "    </tr>\n",
       "    <tr>\n",
       "      <th>15125628</th>\n",
       "      <td>Z068M002</td>\n",
       "      <td>Unbekannt</td>\n",
       "      <td>Z068</td>\n",
       "      <td>Schimmelstrasse (Werdstrasse)</td>\n",
       "      <td>Schimmelstrasse</td>\n",
       "      <td>10</td>\n",
       "      <td>Unbekannt</td>\n",
       "      <td>2682054.00</td>\n",
       "      <td>1247168.00</td>\n",
       "      <td>Bahnhof Wiedikon</td>\n",
       "      <td>...</td>\n",
       "      <td>Schimmel-/Werdstr (Schulweg)</td>\n",
       "      <td>1</td>\n",
       "      <td>12</td>\n",
       "      <td>Unbekannt</td>\n",
       "      <td>Unbekannt</td>\n",
       "      <td>Unbekannt</td>\n",
       "      <td>2019-07-10T23:00:00</td>\n",
       "      <td>2021-02-03</td>\n",
       "      <td>NaN</td>\n",
       "      <td>Fehlend</td>\n",
       "    </tr>\n",
       "  </tbody>\n",
       "</table>\n",
       "<p>52936 rows × 21 columns</p>\n",
       "</div>"
      ],
      "text/plain": [
       "              MSID     MSName  ZSID                            ZSName  \\\n",
       "613200    Z038M001  Unbekannt  Z038  Rosengartenstrasse (Nordstrasse)   \n",
       "613201    Z038M001  Unbekannt  Z038  Rosengartenstrasse (Nordstrasse)   \n",
       "613202    Z038M001  Unbekannt  Z038  Rosengartenstrasse (Nordstrasse)   \n",
       "613203    Z038M001  Unbekannt  Z038  Rosengartenstrasse (Nordstrasse)   \n",
       "613204    Z038M001  Unbekannt  Z038  Rosengartenstrasse (Nordstrasse)   \n",
       "...            ...        ...   ...                               ...   \n",
       "15125624  Z068M002  Unbekannt  Z068     Schimmelstrasse (Werdstrasse)   \n",
       "15125625  Z068M002  Unbekannt  Z068     Schimmelstrasse (Werdstrasse)   \n",
       "15125626  Z068M002  Unbekannt  Z068     Schimmelstrasse (Werdstrasse)   \n",
       "15125627  Z068M002  Unbekannt  Z068     Schimmelstrasse (Werdstrasse)   \n",
       "15125628  Z068M002  Unbekannt  Z068     Schimmelstrasse (Werdstrasse)   \n",
       "\n",
       "                       Achse HNr      Hoehe      EKoord      NKoord  \\\n",
       "613200    Rosengartenstrasse  23  Unbekannt  2682070.59  1249909.12   \n",
       "613201    Rosengartenstrasse  23  Unbekannt  2682070.59  1249909.12   \n",
       "613202    Rosengartenstrasse  23  Unbekannt  2682070.59  1249909.12   \n",
       "613203    Rosengartenstrasse  23  Unbekannt  2682070.59  1249909.12   \n",
       "613204    Rosengartenstrasse  23  Unbekannt  2682070.59  1249909.12   \n",
       "...                      ...  ..        ...         ...         ...   \n",
       "15125624     Schimmelstrasse  10  Unbekannt  2682054.00  1247168.00   \n",
       "15125625     Schimmelstrasse  10  Unbekannt  2682054.00  1247168.00   \n",
       "15125626     Schimmelstrasse  10  Unbekannt  2682054.00  1247168.00   \n",
       "15125627     Schimmelstrasse  10  Unbekannt  2682054.00  1247168.00   \n",
       "15125628     Schimmelstrasse  10  Unbekannt  2682054.00  1247168.00   \n",
       "\n",
       "                  Richtung  ...                                      Kname  \\\n",
       "613200        Bucheggplatz  ...  Nordstr/Röschibachsteig/Rosengartenbrücke   \n",
       "613201        Bucheggplatz  ...  Nordstr/Röschibachsteig/Rosengartenbrücke   \n",
       "613202        Bucheggplatz  ...  Nordstr/Röschibachsteig/Rosengartenbrücke   \n",
       "613203        Bucheggplatz  ...  Nordstr/Röschibachsteig/Rosengartenbrücke   \n",
       "613204        Bucheggplatz  ...  Nordstr/Röschibachsteig/Rosengartenbrücke   \n",
       "...                    ...  ...                                        ...   \n",
       "15125624  Bahnhof Wiedikon  ...               Schimmel-/Werdstr (Schulweg)   \n",
       "15125625  Bahnhof Wiedikon  ...               Schimmel-/Werdstr (Schulweg)   \n",
       "15125626  Bahnhof Wiedikon  ...               Schimmel-/Werdstr (Schulweg)   \n",
       "15125627  Bahnhof Wiedikon  ...               Schimmel-/Werdstr (Schulweg)   \n",
       "15125628  Bahnhof Wiedikon  ...               Schimmel-/Werdstr (Schulweg)   \n",
       "\n",
       "         AnzDetektoren  D1ID       D2ID       D3ID       D4ID  \\\n",
       "613200               2    14         15  Unbekannt  Unbekannt   \n",
       "613201               2    14         15  Unbekannt  Unbekannt   \n",
       "613202               2    14         15  Unbekannt  Unbekannt   \n",
       "613203               2    14         15  Unbekannt  Unbekannt   \n",
       "613204               2    14         15  Unbekannt  Unbekannt   \n",
       "...                ...   ...        ...        ...        ...   \n",
       "15125624             1    12  Unbekannt  Unbekannt  Unbekannt   \n",
       "15125625             1    12  Unbekannt  Unbekannt  Unbekannt   \n",
       "15125626             1    12  Unbekannt  Unbekannt  Unbekannt   \n",
       "15125627             1    12  Unbekannt  Unbekannt  Unbekannt   \n",
       "15125628             1    12  Unbekannt  Unbekannt  Unbekannt   \n",
       "\n",
       "               MessungDatZeit   LieferDat AnzFahrzeuge  AnzFahrzeugeStatus  \n",
       "613200    2014-01-01T00:00:00  2021-02-03          NaN             Fehlend  \n",
       "613201    2014-01-01T01:00:00  2021-02-03          NaN             Fehlend  \n",
       "613202    2014-01-01T02:00:00  2021-02-03          NaN             Fehlend  \n",
       "613203    2014-01-01T03:00:00  2021-02-03          NaN             Fehlend  \n",
       "613204    2014-01-01T04:00:00  2021-02-03          NaN             Fehlend  \n",
       "...                       ...         ...          ...                 ...  \n",
       "15125624  2019-07-10T19:00:00  2021-02-03          NaN             Fehlend  \n",
       "15125625  2019-07-10T20:00:00  2021-02-03          NaN             Fehlend  \n",
       "15125626  2019-07-10T21:00:00  2021-02-03          NaN             Fehlend  \n",
       "15125627  2019-07-10T22:00:00  2021-02-03          NaN             Fehlend  \n",
       "15125628  2019-07-10T23:00:00  2021-02-03          NaN             Fehlend  \n",
       "\n",
       "[52936 rows x 21 columns]"
      ]
     },
     "execution_count": 59,
     "metadata": {},
     "output_type": "execute_result"
    }
   ],
   "source": [
    "df[df['AnzFahrzeuge'].isnull()]"
   ]
  },
  {
   "cell_type": "markdown",
   "id": "opposite-crazy",
   "metadata": {},
   "source": [
    "Only the AnzFahrzeuge column contains null values. The measuring for these timepoints is missing, which is indicated by the AnzFahrzeugeStatus column."
   ]
  },
  {
   "cell_type": "markdown",
   "id": "wanted-calgary",
   "metadata": {},
   "source": [
    "### determine not needed or informationless columns by analysing the unique values of a column"
   ]
  },
  {
   "cell_type": "code",
   "execution_count": 40,
   "id": "extended-chess",
   "metadata": {
    "scrolled": false
   },
   "outputs": [
    {
     "data": {
      "text/plain": [
       "MSID                      6\n",
       "MSName                    1\n",
       "ZSID                      3\n",
       "ZSName                    3\n",
       "Achse                     3\n",
       "HNr                       5\n",
       "Hoehe                     1\n",
       "EKoord                    6\n",
       "NKoord                    6\n",
       "Richtung                  6\n",
       "Knummer                   3\n",
       "Kname                     3\n",
       "AnzDetektoren             2\n",
       "D1ID                      5\n",
       "D2ID                      6\n",
       "D3ID                      1\n",
       "D4ID                      1\n",
       "MessungDatZeit        90253\n",
       "LieferDat                 4\n",
       "AnzFahrzeuge           2324\n",
       "AnzFahrzeugeStatus        3\n",
       "dtype: int64"
      ]
     },
     "execution_count": 40,
     "metadata": {},
     "output_type": "execute_result"
    }
   ],
   "source": [
    "df.nunique()"
   ]
  },
  {
   "cell_type": "code",
   "execution_count": 42,
   "id": "intimate-mustang",
   "metadata": {},
   "outputs": [
    {
     "data": {
      "text/plain": [
       "array(['23', 56, 10, '56', '10'], dtype=object)"
      ]
     },
     "execution_count": 42,
     "metadata": {},
     "output_type": "execute_result"
    }
   ],
   "source": [
    "df.HNr.unique()"
   ]
  },
  {
   "cell_type": "markdown",
   "id": "taken-terrorist",
   "metadata": {},
   "source": [
    "HNr has technically only three unique values, but because of different datatypes 5 unique values are listed. This is not an issue and will be handled in the etl process."
   ]
  },
  {
   "cell_type": "code",
   "execution_count": 43,
   "id": "centered-seeker",
   "metadata": {},
   "outputs": [
    {
     "data": {
      "text/plain": [
       "array(['Unbekannt'], dtype=object)"
      ]
     },
     "execution_count": 43,
     "metadata": {},
     "output_type": "execute_result"
    }
   ],
   "source": [
    "df.Hoehe.unique()"
   ]
  },
  {
   "cell_type": "code",
   "execution_count": 44,
   "id": "absent-diagnosis",
   "metadata": {},
   "outputs": [
    {
     "data": {
      "text/plain": [
       "array(['Unbekannt'], dtype=object)"
      ]
     },
     "execution_count": 44,
     "metadata": {},
     "output_type": "execute_result"
    }
   ],
   "source": [
    "df.MSName.unique()"
   ]
  },
  {
   "cell_type": "code",
   "execution_count": 50,
   "id": "reported-updating",
   "metadata": {},
   "outputs": [
    {
     "data": {
      "text/plain": [
       "array(['Unbekannt'], dtype=object)"
      ]
     },
     "execution_count": 50,
     "metadata": {},
     "output_type": "execute_result"
    }
   ],
   "source": [
    "df.D3ID.unique()"
   ]
  },
  {
   "cell_type": "code",
   "execution_count": 51,
   "id": "provincial-vegetable",
   "metadata": {},
   "outputs": [
    {
     "data": {
      "text/plain": [
       "array(['Unbekannt'], dtype=object)"
      ]
     },
     "execution_count": 51,
     "metadata": {},
     "output_type": "execute_result"
    }
   ],
   "source": [
    "df.D4ID.unique()"
   ]
  },
  {
   "cell_type": "markdown",
   "id": "precise-cabinet",
   "metadata": {},
   "source": [
    "all of the above columns have only one unique value unknown. Therefore these columns offer no valuable information for our project and can be excluded in the etl process."
   ]
  },
  {
   "cell_type": "code",
   "execution_count": 52,
   "id": "fundamental-complaint",
   "metadata": {
    "scrolled": true
   },
   "outputs": [
    {
     "data": {
      "text/plain": [
       "array(['2021-02-03', '2021-02-04', '2021-12-30', '2022-04-21'],\n",
       "      dtype=object)"
      ]
     },
     "execution_count": 52,
     "metadata": {},
     "output_type": "execute_result"
    }
   ],
   "source": [
    "df.LieferDat.unique()"
   ]
  },
  {
   "cell_type": "markdown",
   "id": "minute-kuwait",
   "metadata": {},
   "source": [
    "the column LieferDat is not relevant for our project and can be excluded in the etl process."
   ]
  }
 ],
 "metadata": {
  "kernelspec": {
   "display_name": "Python 3",
   "language": "python",
   "name": "python3"
  },
  "language_info": {
   "codemirror_mode": {
    "name": "ipython",
    "version": 3
   },
   "file_extension": ".py",
   "mimetype": "text/x-python",
   "name": "python",
   "nbconvert_exporter": "python",
   "pygments_lexer": "ipython3",
   "version": "3.9.2"
  },
  "toc": {
   "base_numbering": 1,
   "nav_menu": {},
   "number_sections": true,
   "sideBar": true,
   "skip_h1_title": false,
   "title_cell": "Table of Contents",
   "title_sidebar": "Contents",
   "toc_cell": false,
   "toc_position": {},
   "toc_section_display": true,
   "toc_window_display": false
  },
  "varInspector": {
   "cols": {
    "lenName": 16,
    "lenType": 16,
    "lenVar": 40
   },
   "kernels_config": {
    "python": {
     "delete_cmd_postfix": "",
     "delete_cmd_prefix": "del ",
     "library": "var_list.py",
     "varRefreshCmd": "print(var_dic_list())"
    },
    "r": {
     "delete_cmd_postfix": ") ",
     "delete_cmd_prefix": "rm(",
     "library": "var_list.r",
     "varRefreshCmd": "cat(var_dic_list()) "
    }
   },
   "types_to_exclude": [
    "module",
    "function",
    "builtin_function_or_method",
    "instance",
    "_Feature"
   ],
   "window_display": false
  }
 },
 "nbformat": 4,
 "nbformat_minor": 5
}
